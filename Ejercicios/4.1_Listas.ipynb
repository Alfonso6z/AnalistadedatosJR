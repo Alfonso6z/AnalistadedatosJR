{
 "cells": [
  {
   "cell_type": "markdown",
   "metadata": {},
   "source": [
    "# Ejercicios Listas"
   ]
  },
  {
   "cell_type": "markdown",
   "metadata": {},
   "source": [
    "### Ejercicio 1\n",
    "Escribir un programa que almacene las asignaturas de un curso (por ejemplo Matemáticas, Física, Química, Historia y Lengua) en una lista y la muestre por pantalla."
   ]
  },
  {
   "attachments": {},
   "cell_type": "markdown",
   "metadata": {},
   "source": [
    "```java\n",
    "// sin salto\n",
    "System.out.print();\n",
    "// con salto  \n",
    "System.out.println();\n",
    "```\n",
    "```python\n",
    "# sin salto \n",
    "print(\"\",end=\"\")\n",
    "# con salto\n",
    "print(\"\")\n",
    "```"
   ]
  },
  {
   "cell_type": "code",
   "execution_count": 12,
   "metadata": {},
   "outputs": [
    {
     "name": "stdout",
     "output_type": "stream",
     "text": [
      "Como lista: \n",
      "['Matemáticas', 'Física', 'Química', 'Historia', 'Lengua']\n",
      "\n",
      "Con iterador for:\n",
      "esto es un indice: 0\n",
      "Matemáticas\n",
      "esto es un indice: 1\n",
      "Física\n",
      "esto es un indice: 2\n",
      "Química\n",
      "esto es un indice: 3\n",
      "Historia\n",
      "esto es un indice: 4\n",
      "Lengua\n",
      "\n",
      "Con for each:\n",
      "el objeto de lista: Matemáticas\n",
      "el objeto de lista: Física\n",
      "el objeto de lista: Química\n",
      "el objeto de lista: Historia\n",
      "el objeto de lista: Lengua\n"
     ]
    }
   ],
   "source": [
    "asignaturas = [\"Matemáticas\",\"Física\",\"Química\",\"Historia\",\"Lengua\"]\n",
    "# como lista\n",
    "print('Como lista: ')\n",
    "print(asignaturas)\n",
    "print()\n",
    "# como elementos\n",
    "print(\"Con iterador for:\")\n",
    "for i in range(len(asignaturas)):\n",
    "    print(f\"esto es un indice: {i}\")\n",
    "    print(asignaturas[i])\n",
    "    \n",
    "print(\"\\nCon for each:\")\n",
    "for cualquier_cosa in asignaturas:\n",
    "    print(\"el objeto de lista:\",cualquier_cosa)"
   ]
  },
  {
   "cell_type": "markdown",
   "metadata": {},
   "source": [
    "### Ejercicio 2\n",
    "Escribir un programa que almacene las asignaturas de un curso (por ejemplo Matemáticas, Física, Química, Historia y Lengua) en una lista y la muestre por pantalla el mensaje Yo estudio &lt;asignatura>, donde &lt;asignatura> es cada una de las asignaturas de la lista."
   ]
  },
  {
   "cell_type": "code",
   "execution_count": 13,
   "metadata": {},
   "outputs": [
    {
     "name": "stdout",
     "output_type": "stream",
     "text": [
      "\n",
      "iterador\n",
      "Yo estudio Matemáticas\n",
      "Yo estudio Física\n",
      "Yo estudio Química\n",
      "Yo estudio Historia\n",
      "Yo estudio Lengua\n",
      "\n",
      "for each\n",
      "Yo estudio Matemáticas\n",
      "Yo estudio Física\n",
      "Yo estudio Química\n",
      "Yo estudio Historia\n",
      "Yo estudio Lengua\n"
     ]
    }
   ],
   "source": [
    "# Solución\n",
    "asignaturas = [\"Matemáticas\",\"Física\",\"Química\",\"Historia\",\"Lengua\"]\n",
    "\n",
    "print(\"\\niterador\")\n",
    "for i in range(len(asignaturas)):\n",
    "    print(f\"Yo estudio {asignaturas[i]}\")\n",
    "    \n",
    "print(\"\\nfor each\")\n",
    "for asignatura in asignaturas:\n",
    "    print(f\"Yo estudio {asignatura}\")"
   ]
  },
  {
   "cell_type": "markdown",
   "metadata": {},
   "source": [
    "### Ejercicio 3\n",
    "Escribir un programa que almacene las asignaturas de un curso (por ejemplo Matemáticas, Física, Química, Historia y Lengua) en una lista, pregunte al usuario la nota que ha sacado en cada asignatura, y después las muestre por pantalla con el mensaje En &lt;asignatura> has sacado &lt;nota> donde &lt;asignatura> es cada una des las asignaturas de la lista y &lt;nota> cada una de las correspondientes notas introducidas por el usuario."
   ]
  },
  {
   "cell_type": "code",
   "execution_count": null,
   "metadata": {},
   "outputs": [],
   "source": [
    "# Solución\n",
    "asignaturas = [\"Matemáticas\",\"Física\",\"Química\",\"Historia\",\"Lengua\"]\n"
   ]
  },
  {
   "cell_type": "markdown",
   "metadata": {},
   "source": [
    "### Ejercicio 4\n",
    "Escribir un programa que pregunte al usuario los números ganadores de la lotería primitiva, los almacene en una lista y los muestre por pantalla ordenados de menor a mayor."
   ]
  },
  {
   "cell_type": "code",
   "execution_count": 1,
   "metadata": {},
   "outputs": [],
   "source": [
    "# Solución"
   ]
  },
  {
   "cell_type": "markdown",
   "metadata": {},
   "source": [
    "### Ejercicio 5\n",
    "Escribir un programa que almacene en una lista los números del 1 al 10 y los muestre por pantalla en orden inverso separados por comas."
   ]
  },
  {
   "cell_type": "code",
   "execution_count": null,
   "metadata": {},
   "outputs": [],
   "source": [
    "# Solución"
   ]
  },
  {
   "cell_type": "markdown",
   "metadata": {},
   "source": [
    "### Ejercicio 6\n",
    "Escribir un programa que almacene las asignaturas de un curso (por ejemplo Matemáticas, Física, Química, Historia y Lengua) en una lista, pregunte al usuario la nota que ha sacado en cada asignatura y elimine de la lista las asignaturas aprobadas. Al final el programa debe mostrar por pantalla las asignaturas que el usuario tiene que repetir."
   ]
  },
  {
   "cell_type": "code",
   "execution_count": null,
   "metadata": {},
   "outputs": [],
   "source": [
    "# Solución"
   ]
  },
  {
   "cell_type": "markdown",
   "metadata": {},
   "source": [
    "### Ejercicio 7\n",
    "Escribir un programa que almacene el abecedario en una lista, elimine de la lista las letras que ocupen posiciones múltiplos de 3, y muestre por pantalla la lista resultante."
   ]
  },
  {
   "cell_type": "code",
   "execution_count": null,
   "metadata": {},
   "outputs": [],
   "source": [
    "# Solución"
   ]
  },
  {
   "cell_type": "markdown",
   "metadata": {},
   "source": [
    "### Ejercicio 8\n",
    "Escribir un programa que pida al usuario una palabra y muestre por pantalla si es un palíndromo."
   ]
  },
  {
   "cell_type": "code",
   "execution_count": null,
   "metadata": {},
   "outputs": [],
   "source": [
    "# Solución"
   ]
  },
  {
   "cell_type": "markdown",
   "metadata": {},
   "source": [
    "### Ejercicio 9\n",
    "Escribir un programa que pida al usuario una palabra y muestre por pantalla el número de veces que contiene cada vocal."
   ]
  },
  {
   "cell_type": "code",
   "execution_count": null,
   "metadata": {},
   "outputs": [],
   "source": [
    "# Solución"
   ]
  },
  {
   "cell_type": "markdown",
   "metadata": {},
   "source": [
    "### Ejercicio 10\n",
    "Escribir un programa que almacene en una lista los siguientes precios, 50, 75, 46, 22, 80, 65, 8, y muestre por pantalla el menor y el mayor de los precios."
   ]
  },
  {
   "cell_type": "code",
   "execution_count": null,
   "metadata": {},
   "outputs": [],
   "source": [
    "# Solución"
   ]
  },
  {
   "cell_type": "markdown",
   "metadata": {},
   "source": [
    "### Ejercicio 11\n",
    "Escribir un programa que almacene los vectores (1,2,3) y (-1,0,2) en dos listas y muestre por pantalla su producto escalar."
   ]
  },
  {
   "cell_type": "code",
   "execution_count": null,
   "metadata": {},
   "outputs": [],
   "source": [
    "# Solución"
   ]
  },
  {
   "cell_type": "markdown",
   "metadata": {},
   "source": [
    "### Ejercicio 12\n",
    "Escribir un programa que almacene las matrices en una lista y muestre por pantalla su producto.\n",
    "Nota: Para representar matrices mediante listas usar listas anidadas, representando cada vector fila en una lista.  \n",
    "\n",
    "$$\\begin{equation}\n",
    "    \\begin{pmatrix}\n",
    "        a_{1,1} & a_{1,2}\\\\\n",
    "        a_{2,1} & a_{2,2}\n",
    "    \\end{pmatrix}\n",
    "    *\n",
    "    \\begin{pmatrix}\n",
    "        b_{1,1} & b_{1,2}\\\\\n",
    "        b_{2,1} & b_{2,2}\n",
    "    \\end{pmatrix}\n",
    "    =\n",
    "    \\begin{pmatrix}\n",
    "        a_{1,1}*b_{1,1} +a_{1,2}*b_{2,1} &  a_{1,1}*b_{1,2}+a_{1,2}*b_{2,2}\\\\\n",
    "        a_{2,1}*b_{1,1} + a_{2,2}*b_{2,1} &  a_{2,1}*b_{1,2} + a_{2,2}*b_{2,2}\n",
    "    \\end{pmatrix}\n",
    "\\end{equation}$$"
   ]
  },
  {
   "cell_type": "markdown",
   "metadata": {},
   "source": [
    "### Ejemplo\n",
    "$$\\begin{equation}\n",
    "    \\begin{pmatrix}\n",
    "        1 & 2\\\\\n",
    "        3 & 4\n",
    "    \\end{pmatrix}\n",
    "    *\n",
    "    \\begin{pmatrix}\n",
    "        1 & 1\\\\\n",
    "        0 & 2\n",
    "    \\end{pmatrix}\n",
    "    =\n",
    "    \\begin{pmatrix}\n",
    "        1*1 +2*0 &  1*1+2*2\\\\\n",
    "        3*1 + 4*0 &  3*1 + 4*2\n",
    "    \\end{pmatrix}\n",
    "    =\n",
    "    \\begin{pmatrix}\n",
    "        1 & 5\\\\\n",
    "        3 & 11\n",
    "    \\end{pmatrix}\n",
    "\\end{equation}$$"
   ]
  },
  {
   "cell_type": "code",
   "execution_count": null,
   "metadata": {},
   "outputs": [],
   "source": [
    "# Solución"
   ]
  },
  {
   "cell_type": "markdown",
   "metadata": {},
   "source": [
    "### Ejemplo 2\n",
    "$$\n",
    "A = \\left(\n",
    "  \\begin{array}{rrr}\n",
    "  1 & 2 & 3\\\\\n",
    "  4 & 5 & 6\n",
    "  \\end{array}\n",
    "  \\right)\n",
    "  \\quad  y\n",
    "  \\quad\n",
    "  B = \\left(\n",
    "  \\begin{array}{rr}\n",
    "  -1 & 0\\\\\n",
    "  0 & 1\\\\\n",
    "  1 & 1\n",
    "  \\end{array}\n",
    "  \\right)\n",
    "$$"
   ]
  },
  {
   "cell_type": "code",
   "execution_count": null,
   "metadata": {},
   "outputs": [],
   "source": [
    "# Solución"
   ]
  }
 ],
 "metadata": {
  "kernelspec": {
   "display_name": "Python 3.10.4 64-bit",
   "language": "python",
   "name": "python3"
  },
  "language_info": {
   "codemirror_mode": {
    "name": "ipython",
    "version": 3
   },
   "file_extension": ".py",
   "mimetype": "text/x-python",
   "name": "python",
   "nbconvert_exporter": "python",
   "pygments_lexer": "ipython3",
   "version": "3.11.2"
  },
  "orig_nbformat": 4,
  "vscode": {
   "interpreter": {
    "hash": "9524c4952dd211fec7df7c73b3afac2dbc89a267f70352ce6257a0999e7cce99"
   }
  }
 },
 "nbformat": 4,
 "nbformat_minor": 2
}
