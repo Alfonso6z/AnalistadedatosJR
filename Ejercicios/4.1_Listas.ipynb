{
 "cells": [
  {
   "cell_type": "markdown",
   "metadata": {},
   "source": [
    "# Ejercicios Listas"
   ]
  },
  {
   "cell_type": "markdown",
   "metadata": {},
   "source": [
    "### Ejercicio 1\n",
    "Escribir un programa que almacene las asignaturas de un curso (por ejemplo Matemáticas, Física, Química, Historia y Lengua) en una lista y la muestre por pantalla."
   ]
  },
  {
   "attachments": {},
   "cell_type": "markdown",
   "metadata": {},
   "source": [
    "```java\n",
    "// sin salto\n",
    "System.out.print();\n",
    "// con salto  \n",
    "System.out.println();\n",
    "```\n",
    "```python\n",
    "# sin salto \n",
    "print(\"\",end=\"\")\n",
    "# con salto\n",
    "print(\"\")\n",
    "```"
   ]
  },
  {
   "cell_type": "code",
   "execution_count": 12,
   "metadata": {},
   "outputs": [
    {
     "name": "stdout",
     "output_type": "stream",
     "text": [
      "Como lista: \n",
      "['Matemáticas', 'Física', 'Química', 'Historia', 'Lengua']\n",
      "\n",
      "Con iterador for:\n",
      "esto es un indice: 0\n",
      "Matemáticas\n",
      "esto es un indice: 1\n",
      "Física\n",
      "esto es un indice: 2\n",
      "Química\n",
      "esto es un indice: 3\n",
      "Historia\n",
      "esto es un indice: 4\n",
      "Lengua\n",
      "\n",
      "Con for each:\n",
      "el objeto de lista: Matemáticas\n",
      "el objeto de lista: Física\n",
      "el objeto de lista: Química\n",
      "el objeto de lista: Historia\n",
      "el objeto de lista: Lengua\n"
     ]
    }
   ],
   "source": [
    "asignaturas = [\"Matemáticas\",\"Física\",\"Química\",\"Historia\",\"Lengua\"]\n",
    "# como lista\n",
    "print('Como lista: ')\n",
    "print(asignaturas)\n",
    "print()\n",
    "# como elementos\n",
    "print(\"Con iterador for:\")\n",
    "for i in range(len(asignaturas)):\n",
    "    print(f\"esto es un indice: {i}\")\n",
    "    print(asignaturas[i])\n",
    "    \n",
    "print(\"\\nCon for each:\")\n",
    "for cualquier_cosa in asignaturas:\n",
    "    print(\"el objeto de lista:\",cualquier_cosa)"
   ]
  },
  {
   "cell_type": "markdown",
   "metadata": {},
   "source": [
    "### Ejercicio 2\n",
    "Escribir un programa que almacene las asignaturas de un curso (por ejemplo Matemáticas, Física, Química, Historia y Lengua) en una lista y la muestre por pantalla el mensaje Yo estudio &lt;asignatura>, donde &lt;asignatura> es cada una de las asignaturas de la lista."
   ]
  },
  {
   "cell_type": "code",
   "execution_count": 13,
   "metadata": {},
   "outputs": [
    {
     "name": "stdout",
     "output_type": "stream",
     "text": [
      "\n",
      "iterador\n",
      "Yo estudio Matemáticas\n",
      "Yo estudio Física\n",
      "Yo estudio Química\n",
      "Yo estudio Historia\n",
      "Yo estudio Lengua\n",
      "\n",
      "for each\n",
      "Yo estudio Matemáticas\n",
      "Yo estudio Física\n",
      "Yo estudio Química\n",
      "Yo estudio Historia\n",
      "Yo estudio Lengua\n"
     ]
    }
   ],
   "source": [
    "# Solución\n",
    "asignaturas = [\"Matemáticas\",\"Física\",\"Química\",\"Historia\",\"Lengua\"]\n",
    "\n",
    "print(\"\\niterador\")\n",
    "for i in range(len(asignaturas)):\n",
    "    print(f\"Yo estudio {asignaturas[i]}\")\n",
    "    \n",
    "print(\"\\nfor each\")\n",
    "for asignatura in asignaturas:\n",
    "    print(f\"Yo estudio {asignatura}\")"
   ]
  },
  {
   "cell_type": "markdown",
   "metadata": {},
   "source": [
    "### Ejercicio 3\n",
    "Escribir un programa que almacene las asignaturas de un curso (por ejemplo Matemáticas, Física, Química, Historia y Lengua) en una lista, pregunte al usuario la nota que ha sacado en cada asignatura, y después las muestre por pantalla con el mensaje En &lt;asignatura> has sacado &lt;nota> donde &lt;asignatura> es cada una des las asignaturas de la lista y &lt;nota> cada una de las correspondientes notas introducidas por el usuario."
   ]
  },
  {
   "cell_type": "code",
   "execution_count": 13,
   "metadata": {},
   "outputs": [
    {
     "name": "stdout",
     "output_type": "stream",
     "text": [
      "('Historia', [6.2])\n",
      "Historia\n",
      "6.2\n"
     ]
    }
   ],
   "source": []
  },
  {
   "cell_type": "code",
   "execution_count": 17,
   "metadata": {},
   "outputs": [
    {
     "name": "stdout",
     "output_type": "stream",
     "text": [
      "En Matemáticas sacaste 5.0\n",
      "En Física sacaste 8.0\n",
      "En Química sacaste 7.0\n",
      "En Historia sacaste 4.0\n",
      "En Lengua sacaste 9.0\n",
      "En Programación sacaste 5.0\n"
     ]
    }
   ],
   "source": [
    "# Solución\n",
    "asignaturas = [\"Matemáticas\",\"Física\",\"Química\",\"Historia\",\"Lengua\",\"Programación\"]\n",
    "#! asignaturas = [(\"Matemáticas\",6),(\"Física\",7),(\"Química\",9),(\"Historia\",6),(\"Lengua\",8)]\n",
    "for i in range(len(asignaturas)):\n",
    "    nota = float(input(f\"Cuanto sacaste en {asignaturas[i]}\")) #? cuanto sacaste en Matemáticas i = 0\n",
    "    aux_asig = asignaturas[i] #* Matemáticas\n",
    "    asignaturas[i] = (aux_asig,nota) #! (\"Matemáticas\",6)\n",
    "\n",
    "for asignatura in asignaturas:\n",
    "    print(f\"En {asignatura[0]} sacaste {asignatura[1]}\")"
   ]
  },
  {
   "cell_type": "code",
   "execution_count": 30,
   "metadata": {},
   "outputs": [
    {
     "name": "stdout",
     "output_type": "stream",
     "text": [
      "0\n",
      "1\n",
      "2\n",
      "3\n",
      "4\n",
      "5\n",
      "En Matemáticas sacaste 5.0\n",
      "En Física sacaste 8.0\n",
      "En Química sacaste 7.0\n",
      "En Historia sacaste 4.0\n",
      "En Lengua sacaste 9.0\n",
      "En Programación sacaste 5.0\n"
     ]
    }
   ],
   "source": [
    "asignaturas = [('Matemáticas', 5.0),('Física', 8.0),('Química', 7.0),('Historia', 4.0),('Lengua', 9.0),('Programación', 5.0)]\n",
    "\n",
    "# iterador for i existe en Int\n",
    "for i in range(len(asignaturas)): # [0, ... ,5]\n",
    "    print(i)\n",
    "\n",
    "# for each asignatura existe en asignaturas\n",
    "for asignatura in asignaturas:#[(materia,nota),(materia,nota)]\n",
    "    print(f\"En {asignatura[0]} sacaste {asignatura[1]}\")"
   ]
  },
  {
   "cell_type": "code",
   "execution_count": 47,
   "metadata": {},
   "outputs": [
    {
     "name": "stdout",
     "output_type": "stream",
     "text": [
      "[10, 9, 8, 7, 6, 5, 4, 3, 2, 1, 0, -1, -2, -3, -4]\n",
      "Hola mundo\n",
      "como \n",
      "estas\n"
     ]
    }
   ],
   "source": [
    "lista = [\"Hola mundo\",\"como \",\"estas\"]\n",
    "print(list(range(10,-5,-1)))\n",
    "for i in lista:\n",
    "    print(i)"
   ]
  },
  {
   "cell_type": "markdown",
   "metadata": {},
   "source": [
    "### Ejercicio 4\n",
    "Escribir un programa que pregunte al usuario los números ganadores de la lotería primitiva, los almacene en una lista y los muestre por pantalla ordenados de menor a mayor."
   ]
  },
  {
   "cell_type": "code",
   "execution_count": 9,
   "metadata": {},
   "outputs": [
    {
     "name": "stdout",
     "output_type": "stream",
     "text": [
      "[5, 5, 5, 5]\n"
     ]
    }
   ],
   "source": [
    "# Solución\n",
    "n_ganadores = []\n",
    "n = 0\n",
    "while True:\n",
    "    n+=1\n",
    "    ganador = int(input(f\"Ingresa el # ganador {n}, o -1 para terminar\"))\n",
    "    if(ganador<0):\n",
    "        break\n",
    "    n_ganadores.append(ganador)\n",
    "n_ganadores.sort()\n",
    "print(n_ganadores)\n"
   ]
  },
  {
   "cell_type": "markdown",
   "metadata": {},
   "source": [
    "### Ejercicio 5\n",
    "Escribir un programa que almacene en una lista los números del 1 al 10 y los muestre por pantalla en orden inverso separados por comas."
   ]
  },
  {
   "cell_type": "code",
   "execution_count": 15,
   "metadata": {},
   "outputs": [
    {
     "name": "stdout",
     "output_type": "stream",
     "text": [
      "[10, 9, 8, 7, 6, 5, 4, 3, 2, 1]\n",
      "[1, 2, 3, 4, 5, 6, 7, 8, 9, 10]\n"
     ]
    }
   ],
   "source": [
    "# Solución\n",
    "lista = [i for i in range(1,10 + 1)]\n",
    "print(lista[::-1])\n",
    "print(lista)"
   ]
  },
  {
   "cell_type": "code",
   "execution_count": 3,
   "metadata": {},
   "outputs": [
    {
     "name": "stdout",
     "output_type": "stream",
     "text": [
      "[10, 9, 8, 7, 6, 5, 4, 3, 2, 1]\n"
     ]
    }
   ],
   "source": [
    "lista = [i for i in range(1,10 + 1)]\n",
    "lista.reverse()\n",
    "print(lista)"
   ]
  },
  {
   "cell_type": "markdown",
   "metadata": {},
   "source": [
    "### Ejercicio 6\n",
    "Escribir un programa que almacene las asignaturas de un curso (por ejemplo Matemáticas, Física, Química, Historia y Lengua) en una lista, pregunte al usuario la nota que ha sacado en cada asignatura y elimine de la lista las asignaturas aprobadas. Al final el programa debe mostrar por pantalla las asignaturas que el usuario tiene que repetir."
   ]
  },
  {
   "cell_type": "code",
   "execution_count": 14,
   "metadata": {},
   "outputs": [
    {
     "name": "stdout",
     "output_type": "stream",
     "text": [
      "[('Física', 5.0), ('Historia', 5.0), ('Programación', 5.0)]\n"
     ]
    }
   ],
   "source": [
    "# Solución\n",
    "asignaturas = [\"Matemáticas\",\"Física\",\"Química\",\"Historia\",\"Lengua\",\"Programación\"]\n",
    "for i in range(len(asignaturas)):\n",
    "    nota = float(input(f\"Que nota optuviste en {asignaturas[i]}\"))\n",
    "    asig_aux = asignaturas[i]\n",
    "    asignaturas[i] = (asig_aux,nota)\n",
    "\n",
    "i = 0\n",
    "while i<len(asignaturas):\n",
    "    if asignaturas[i][1] >= 6:\n",
    "        asignaturas.pop(i)\n",
    "    else:\n",
    "        i+=1\n",
    "print(asignaturas)"
   ]
  },
  {
   "cell_type": "markdown",
   "metadata": {},
   "source": []
  },
  {
   "cell_type": "code",
   "execution_count": 7,
   "metadata": {},
   "outputs": [
    {
     "name": "stdout",
     "output_type": "stream",
     "text": [
      "[('Matemáticas', 7.0), ('Historia', 7.0), ('Lengua', 8.0), ('Programación', 5.0)]\n"
     ]
    }
   ],
   "source": [
    "print(asignaturas)"
   ]
  },
  {
   "cell_type": "markdown",
   "metadata": {},
   "source": [
    "### Ejercicio 7\n",
    "Escribir un programa que almacene el abecedario en una lista, elimine de la lista las letras que ocupen posiciones múltiplos de 3, y muestre por pantalla la lista resultante."
   ]
  },
  {
   "cell_type": "code",
   "execution_count": null,
   "metadata": {},
   "outputs": [],
   "source": [
    "# Solución"
   ]
  },
  {
   "cell_type": "markdown",
   "metadata": {},
   "source": [
    "### Ejercicio 8\n",
    "Escribir un programa que pida al usuario una palabra y muestre por pantalla si es un palíndromo."
   ]
  },
  {
   "cell_type": "code",
   "execution_count": 41,
   "metadata": {},
   "outputs": [
    {
     "name": "stdout",
     "output_type": "stream",
     "text": [
      "arbol, aire, trazo leve, drama largo.Lisa, avida, da nueva ley la rocosa colera.Coteja, el oleaje, tocar el ocaso coral y el ave.Una dadiva asi logra la mar: de veloz, arterial obra. no es\n"
     ]
    }
   ],
   "source": [
    "# Solución\n",
    "\"\"\" \n",
    "Entrada: ana, hola\n",
    "Salida: ana es un palíndromo, hola no es un palíndromo\n",
    "\"\"\"\n",
    "es_palindromo = True\n",
    "palabra = input(\"Ingresa una palabra: \")\n",
    "\n",
    "listPalabra = [letra.lower() for letra in palabra if letra != \" \"]\n",
    "for i in range(len(listPalabra)):\n",
    "    es_palindromo = listPalabra[i] == listPalabra[-i-1]\n",
    "    \n",
    "print(f\"{palabra} es palindromo\" if es_palindromo else f\"{palabra} no es\" )\n"
   ]
  },
  {
   "cell_type": "code",
   "execution_count": 40,
   "metadata": {},
   "outputs": [
    {
     "name": "stdout",
     "output_type": "stream",
     "text": [
      "arbol, aire, trazo leve, drama largo.Lisa, avida, da nueva ley la rocosa colera.Coteja, el oleaje, tocar el ocaso coral y el ave.Una dadiva asi logra la mar: de veloz, arterial obra. es palindromo\n"
     ]
    }
   ],
   "source": [
    "\"\"\" \n",
    "Árbol, aire, trazo leve, drama largo.\n",
    "Lisa, ávida, da nueva ley la rocosa cólera.\n",
    "Coteja, el oleaje, tocar el ocaso coral y el ave.\n",
    "Una dádiva así logra la mar: de veloz, arterial obra.\n",
    "\"\"\"\n",
    "palabra = \"arbol, aire, trazo leve, drama largo.Lisa, avida, da nueva ley la rocosa colera.Coteja, el oleaje, tocar el ocaso coral y el ave.Una dadiva asi logra la mar: de veloz, arterial obra.\"\n",
    "lista_p = [letra.lower() for letra in palabra if (letra != \" \" and letra != \",\" and letra != \".\" and letra != \":\")]\n",
    "lista_p_r = lista_p.copy()\n",
    "lista_p_r.reverse()\n",
    "print(f\"{palabra} es palindromo\" if lista_p == lista_p_r else f\"{palabra} no es palindromo\")\n",
    "# listPalabra = [letra.lower() for letra in palabra if letra != \" \"]\n"
   ]
  },
  {
   "cell_type": "code",
   "execution_count": null,
   "metadata": {},
   "outputs": [],
   "source": []
  },
  {
   "cell_type": "markdown",
   "metadata": {},
   "source": [
    "### Ejercicio 9\n",
    "Escribir un programa que pida al usuario una palabra y muestre por pantalla el número de veces que contiene cada vocal."
   ]
  },
  {
   "cell_type": "code",
   "execution_count": null,
   "metadata": {},
   "outputs": [],
   "source": [
    "# Solución"
   ]
  },
  {
   "cell_type": "markdown",
   "metadata": {},
   "source": [
    "### Ejercicio 10\n",
    "Escribir un programa que almacene en una lista los siguientes precios, 50, 75, 46, 22, 80, 65, 8, y muestre por pantalla el menor y el mayor de los precios."
   ]
  },
  {
   "cell_type": "code",
   "execution_count": null,
   "metadata": {},
   "outputs": [],
   "source": [
    "# Solución"
   ]
  },
  {
   "cell_type": "markdown",
   "metadata": {},
   "source": [
    "### Ejercicio 11\n",
    "Escribir un programa que almacene los vectores (1,2,3) y (-1,0,2) en dos listas y muestre por pantalla su producto escalar."
   ]
  },
  {
   "cell_type": "code",
   "execution_count": null,
   "metadata": {},
   "outputs": [],
   "source": [
    "# Solución"
   ]
  },
  {
   "cell_type": "markdown",
   "metadata": {},
   "source": [
    "### Ejercicio 12\n",
    "Escribir un programa que almacene las matrices en una lista y muestre por pantalla su producto.\n",
    "Nota: Para representar matrices mediante listas usar listas anidadas, representando cada vector fila en una lista.  \n",
    "\n",
    "$$\\begin{equation}\n",
    "    \\begin{pmatrix}\n",
    "        a_{1,1} & a_{1,2}\\\\\n",
    "        a_{2,1} & a_{2,2}\n",
    "    \\end{pmatrix}\n",
    "    *\n",
    "    \\begin{pmatrix}\n",
    "        b_{1,1} & b_{1,2}\\\\\n",
    "        b_{2,1} & b_{2,2}\n",
    "    \\end{pmatrix}\n",
    "    =\n",
    "    \\begin{pmatrix}\n",
    "        a_{1,1}*b_{1,1} +a_{1,2}*b_{2,1} &  a_{1,1}*b_{1,2}+a_{1,2}*b_{2,2}\\\\\n",
    "        a_{2,1}*b_{1,1} + a_{2,2}*b_{2,1} &  a_{2,1}*b_{1,2} + a_{2,2}*b_{2,2}\n",
    "    \\end{pmatrix}\n",
    "\\end{equation}$$"
   ]
  },
  {
   "cell_type": "markdown",
   "metadata": {},
   "source": [
    "### Ejemplo\n",
    "$$\\begin{equation}\n",
    "    \\begin{pmatrix}\n",
    "        1 & 2\\\\\n",
    "        3 & 4\n",
    "    \\end{pmatrix}\n",
    "    *\n",
    "    \\begin{pmatrix}\n",
    "        1 & 1\\\\\n",
    "        0 & 2\n",
    "    \\end{pmatrix}\n",
    "    =\n",
    "    \\begin{pmatrix}\n",
    "        1*1 +2*0 &  1*1+2*2\\\\\n",
    "        3*1 + 4*0 &  3*1 + 4*2\n",
    "    \\end{pmatrix}\n",
    "    =\n",
    "    \\begin{pmatrix}\n",
    "        1 & 5\\\\\n",
    "        3 & 11\n",
    "    \\end{pmatrix}\n",
    "\\end{equation}$$"
   ]
  },
  {
   "cell_type": "code",
   "execution_count": null,
   "metadata": {},
   "outputs": [],
   "source": [
    "# Solución"
   ]
  },
  {
   "cell_type": "markdown",
   "metadata": {},
   "source": [
    "### Ejemplo 2\n",
    "$$\n",
    "A = \\left(\n",
    "  \\begin{array}{rrr}\n",
    "  1 & 2 & 3\\\\\n",
    "  4 & 5 & 6\n",
    "  \\end{array}\n",
    "  \\right)\n",
    "  \\quad  y\n",
    "  \\quad\n",
    "  B = \\left(\n",
    "  \\begin{array}{rr}\n",
    "  -1 & 0\\\\\n",
    "  0 & 1\\\\\n",
    "  1 & 1\n",
    "  \\end{array}\n",
    "  \\right)\n",
    "$$"
   ]
  },
  {
   "cell_type": "code",
   "execution_count": null,
   "metadata": {},
   "outputs": [],
   "source": [
    "# Solución"
   ]
  }
 ],
 "metadata": {
  "kernelspec": {
   "display_name": "Python 3.10.4 64-bit",
   "language": "python",
   "name": "python3"
  },
  "language_info": {
   "codemirror_mode": {
    "name": "ipython",
    "version": 3
   },
   "file_extension": ".py",
   "mimetype": "text/x-python",
   "name": "python",
   "nbconvert_exporter": "python",
   "pygments_lexer": "ipython3",
   "version": "3.10.8"
  },
  "orig_nbformat": 4,
  "vscode": {
   "interpreter": {
    "hash": "9524c4952dd211fec7df7c73b3afac2dbc89a267f70352ce6257a0999e7cce99"
   }
  }
 },
 "nbformat": 4,
 "nbformat_minor": 2
}
