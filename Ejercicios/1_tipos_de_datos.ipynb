{
 "cells": [
  {
   "cell_type": "markdown",
   "metadata": {},
   "source": [
    "# Ejercicios de Tipos de Datos Simples"
   ]
  },
  {
   "cell_type": "markdown",
   "metadata": {},
   "source": [
    "### Ejercicio 1\n",
    "Escribir un programa que muestre por pantalla la cadena <span style=\"color:#66D9EF\">¡Hola Mundo!</span>."
   ]
  },
  {
   "cell_type": "code",
   "execution_count": 2,
   "metadata": {},
   "outputs": [
    {
     "name": "stdout",
     "output_type": "stream",
     "text": [
      "Hola mundo\n"
     ]
    }
   ],
   "source": [
    "# Solución\n",
    "print(\"Hola mundo\")"
   ]
  },
  {
   "cell_type": "markdown",
   "metadata": {},
   "source": [
    "### Ejercicio 2\n",
    "Escribir un programa que almacene la cadena <span style=\"color:#66D9EF\">¡Hola Mundo!</span> en una variable y luego muestre por pantalla el contenido de la variable"
   ]
  },
  {
   "cell_type": "code",
   "execution_count": 6,
   "metadata": {},
   "outputs": [
    {
     "name": "stdout",
     "output_type": "stream",
     "text": [
      "Hola Alfonso\n",
      "Hola Alfonso\n",
      "Hola Alfonso\n"
     ]
    }
   ],
   "source": [
    "# Solución\n",
    "nombre = \"Alfonso\"\n",
    "print(\"Hola \"+str(nombre)) # !si el tipo de dato es diferente a str realizar str()\n",
    "print(\"Hola\",nombre)\n",
    "print(f\"Hola {nombre}\")"
   ]
  },
  {
   "cell_type": "markdown",
   "metadata": {},
   "source": [
    "### Ejercicio 3\n",
    "Escribir un programa que pregunte el nombre del usuario en la consola y después de que el usuario lo introduzca muestre por pantalla la cadena <span style=\"color:#66D9EF \">¡Hola \\<nombre\\>!</span>, donde <span style=\"color:#66D9EF\">\\<nombre\\></span> es el nombre que el usuario haya introducido."
   ]
  },
  {
   "cell_type": "code",
   "execution_count": 16,
   "metadata": {},
   "outputs": [
    {
     "name": "stdout",
     "output_type": "stream",
     "text": [
      "Hola \"Alfonso\"\n",
      "Nombre:\t\tAlfonso\n",
      "Telefono: 55566698\n",
      "Correo: alfonso@edc.com\n"
     ]
    }
   ],
   "source": [
    "# Solución\n",
    "nombre = input(\"Escribe tu nombre: \")\n",
    "telefono = input(\"Escribe tu telefono: \")\n",
    "correo = input(\"Escribe tu correo: \")\n",
    "print(f\"Hola \\\"{nombre}\\\"\")\n",
    "\n",
    "datos = f'''Nombre: {nombre}    \n",
    "Telefono: {telefono}\n",
    "Correo: {correo}\n",
    "'''\n",
    "\n",
    "datos2 = \"Nombre:\"+\"\\t\\t\"+nombre+\"\\n\"+\"Telefono: \"+telefono+\"\\n\"+\"Correo: \"+correo\n",
    "\n",
    "print(datos2)"
   ]
  },
  {
   "cell_type": "code",
   "execution_count": 21,
   "metadata": {},
   "outputs": [
    {
     "name": "stdout",
     "output_type": "stream",
     "text": [
      "C:\\Users\\PILARES\\Desktop\\AnalistadedatosJR\\identacion_e.png\n"
     ]
    }
   ],
   "source": [
    "print(\"C:\\\\Users\\\\PILARES\\\\Desktop\\\\AnalistadedatosJR\\\\identacion_e.png\")"
   ]
  },
  {
   "cell_type": "markdown",
   "metadata": {},
   "source": [
    "### Ejercicio 4\n",
    "Escribir un programa que muestre por pantalla el resultado de la siguiente operación aritmética:\n",
    "$$ \\left(\\frac{3+2}{2*5}\\right)^2$$"
   ]
  },
  {
   "cell_type": "code",
   "execution_count": 22,
   "metadata": {},
   "outputs": [
    {
     "name": "stdout",
     "output_type": "stream",
     "text": [
      "0.25\n"
     ]
    }
   ],
   "source": [
    "# solución\n",
    "operacion = ((3+2)/(2*5))**2\n",
    "print(operacion)"
   ]
  },
  {
   "cell_type": "markdown",
   "metadata": {},
   "source": [
    "### Ejercicio 5\n",
    "Escribir un programa que pregunte al usuario por el número de horas trabajadas y el coste por hora. Después debe mostrar por pantalla la paga que le corresponde."
   ]
  },
  {
   "cell_type": "code",
   "execution_count": 25,
   "metadata": {},
   "outputs": [
    {
     "name": "stdout",
     "output_type": "stream",
     "text": [
      "La paga total es igual a $50.0\n"
     ]
    }
   ],
   "source": [
    "# solución\n",
    "n_horas = int(input(\"Horas trabajadas: \"))\n",
    "costo = float(input(\"costo: \"))\n",
    "total = n_horas*costo\n",
    "print(f\"La paga total es igual a ${total}\")"
   ]
  },
  {
   "cell_type": "markdown",
   "metadata": {},
   "source": [
    "### Ejercicio 6\n",
    "Escribir un programa que lea un entero positivo, _n_, introducido por el usuario y después muestre en pantalla la suma de todos los enteros desde 1 hasta _n_ . La suma de los *n* primeros enteros positivos puede ser calculada de la siguiente forma:  \n",
    "$$suma = \\frac{n(n+1)}{2}$$"
   ]
  },
  {
   "cell_type": "code",
   "execution_count": 33,
   "metadata": {},
   "outputs": [
    {
     "name": "stdout",
     "output_type": "stream",
     "text": [
      "La suma de 1 hasta 100 es = 5050.0\n"
     ]
    }
   ],
   "source": [
    "# solución\n",
    "n = int(input(\"Ingresa un número entero: \"))\n",
    "suma = (n*(n+1))/2\n",
    "print(f\"La suma de 1 hasta {n} es = {suma}\")"
   ]
  },
  {
   "cell_type": "markdown",
   "metadata": {},
   "source": [
    "### Ejercicio 7\n",
    "Escribir un programa que pida al usuario su peso (en kg) y estatura (en metros), calcule el índice de masa corporal y lo almacene en una variable, y muestre por pantalla la frase Tu índice de masa corporal es <span style=\"color:#66D9EF\">imc</span> donde <span style=\"color:#66D9EF\">imc</span> es el índice de masa corporal calculado redondeado con dos decimales."
   ]
  },
  {
   "cell_type": "code",
   "execution_count": 40,
   "metadata": {},
   "outputs": [
    {
     "name": "stdout",
     "output_type": "stream",
     "text": [
      "peso: 100 kg, estatura: 1.8 m , imc = 30.86 kg/m\n"
     ]
    }
   ],
   "source": [
    "# solución\n",
    "#? peso/(estatura**2)\n",
    "peso = int(input(\"Ingresa el peso en kg: \"))\n",
    "estatura = float(input(\"Ingresa tu estatura en m\"))\n",
    "imc = peso/(estatura**2)\n",
    "d_2 = \"{:.2f}\".format(imc) #? una forma de truncar\n",
    "print(f\"peso: {peso} kg, estatura: {estatura} m , imc = {d_2} kg/m\")"
   ]
  },
  {
   "cell_type": "markdown",
   "metadata": {},
   "source": [
    "### Ejercicio 8\n",
    "Escribir un programa que pida al usuario dos números enteros y muestre por pantalla la <span style=\"color:#66D9EF \">n</span> entre <span style=\"color:#66D9EF \">m</span> da un cociente <span style=\"color:#66D9EF \">c</span> y un resto <span style=\"color:#66D9EF \">r</span> donde <span style=\"color:#66D9EF \">n y m</span> son los números introducidos por el usuario, y <span style=\"color:#66D9EF \">c y r</span> son el cociente y el resto de la división entera respectivamente."
   ]
  },
  {
   "cell_type": "code",
   "execution_count": 41,
   "metadata": {},
   "outputs": [
    {
     "name": "stdout",
     "output_type": "stream",
     "text": [
      "c = 4, r = 2\n"
     ]
    }
   ],
   "source": [
    "# solución\n",
    "n = int(input(\"Ingresa el dividendo\"))\n",
    "m = int(input(\"Ingresa el divisor\"))\n",
    "c = n//m\n",
    "r = n%m\n",
    "print(f\"c = {c}, r = {r}\")"
   ]
  },
  {
   "cell_type": "markdown",
   "metadata": {},
   "source": [
    "### Ejercicio 9\n",
    "Escribir un programa que pregunte al usuario una cantidad a invertir, el interés anual y el número de años, y muestre por pantalla el capital obtenido en la inversión."
   ]
  },
  {
   "cell_type": "code",
   "execution_count": 44,
   "metadata": {},
   "outputs": [
    {
     "name": "stdout",
     "output_type": "stream",
     "text": [
      " cantidad a invertir = 100.0\n",
      "interes anual = 0.1\n",
      "números de años = 5\n",
      "capital = 161.05100000000004\n"
     ]
    }
   ],
   "source": [
    "# Solución\n",
    "# cantidad a invertir real\n",
    "cantidad_invertir = float(input(\"Ingresa la cantidad a invertir $ \"))\n",
    "# interes anual real, dividir entre 100 para optenerlo como porcentaje\n",
    "i_anual = float(input(\"Ingresa el interes anual: \"))/100\n",
    "# numero de años en entero\n",
    "n_anios = int(input(\"Ingresa el núemro de años: \"))\n",
    "# calcula capital\n",
    "capital = cantidad_invertir*((1+i_anual)**n_anios)\n",
    "# mostrar resultado\n",
    "print(f''' cantidad a invertir = {cantidad_invertir}\n",
    "interes anual = {i_anual}\n",
    "números de años = {n_anios}\n",
    "capital = {capital}''')"
   ]
  },
  {
   "cell_type": "markdown",
   "metadata": {},
   "source": [
    "### Ejercicio 10\n",
    "Una juguetería tiene mucho éxito en dos de sus productos: payasos y muñecas. Suele hacer venta por correo y la empresa de logística les cobra por peso de cada paquete así que deben calcular el peso de los payasos y muñecas que saldrán en cada paquete a demanda. Cada payaso pesa 112 g y cada muñeca 75 g. Escribir un programa que lea el número de payasos y muñecas vendidos en el último pedido y calcule el peso total del paquete que será enviado."
   ]
  },
  {
   "cell_type": "code",
   "execution_count": 46,
   "metadata": {},
   "outputs": [
    {
     "name": "stdout",
     "output_type": "stream",
     "text": [
      "El pesos total = 1870\n"
     ]
    }
   ],
   "source": [
    "# Solución\n",
    "c_muniecas = int(input(\"Ingresa la cantidad de muñecas: \"))\n",
    "# snake_case\n",
    "c_payasos = int(input(\"Ingresa la cantidad de payasos: \"))\n",
    "# camelCase\n",
    "pesoTotal =  c_muniecas * 112 + c_payasos * 75\n",
    "print(f\"El pesos total = {pesoTotal}\")"
   ]
  },
  {
   "cell_type": "markdown",
   "metadata": {},
   "source": [
    "### Ejercicio 11\n",
    "Imagina que acabas de abrir una nueva cuenta de ahorros que te ofrece el 4% de interés al año. Estos ahorros se cobran hasta finales de año. Escribir un programa que comience leyendo la cantidad de dinero depositada en la cuenta de ahorros, introducida por el usuario. Después el programa debe calcular y mostrar por pantalla la cantidad de ahorros tras el primer, segundo y tercer años. Redondear cada cantidad a dos decimales."
   ]
  },
  {
   "cell_type": "code",
   "execution_count": 47,
   "metadata": {},
   "outputs": [
    {
     "name": "stdout",
     "output_type": "stream",
     "text": [
      "cantidad depositada = $100.0\n",
      "primer año = $104.0\n",
      "segundo año = $108.16\n",
      "tercer año = 112.49\n"
     ]
    }
   ],
   "source": [
    "# Solución\n",
    "# cantidad depositada en reales\n",
    "cantidad_depositada = float(input(\"Ingresa la cantidad a depositar $\"))\n",
    "# cantidad de ahorro con cantidad de positada  \n",
    "primer_anio = cantidad_depositada*0.04 + cantidad_depositada\n",
    "segundo_anio = primer_anio*0.04 + primer_anio\n",
    "tercer_anio = segundo_anio*0.04 + segundo_anio\n",
    "\n",
    "print(f'''cantidad depositada = ${cantidad_depositada}\n",
    "primer año = ${round(primer_anio,2)}\n",
    "segundo año = ${round(segundo_anio,2)}\n",
    "tercer año = {round(tercer_anio,2)}''')"
   ]
  },
  {
   "cell_type": "markdown",
   "metadata": {},
   "source": [
    "### Ejercicio 12\n",
    "Una panadería vende barras de pan a $3.49 cada una. El pan que no es el día tiene un descuento del 60%. Escribir un programa que comience leyendo el número de barras vendidas que no son del día. Después el programa debe mostrar el precio habitual de una barra de pan, el descuento que se le hace por no ser fresca y el coste final total."
   ]
  },
  {
   "cell_type": "code",
   "execution_count": 48,
   "metadata": {},
   "outputs": [
    {
     "name": "stdout",
     "output_type": "stream",
     "text": [
      "# barras = 10 \n",
      "p-unitario = $3.49\n",
      "descuento = $2.094\n",
      "total = 13.960000000000004\n"
     ]
    }
   ],
   "source": [
    "# Solución\n",
    "# barras de pan en enteros\n",
    "barras = int(input(\"Ingresa el núemro de barras vendidas \"))\n",
    "descuento = 3.49*0.6\n",
    "\n",
    "print(f'''# barras = {barras} \n",
    "p-unitario = ${3.49}\n",
    "descuento = ${descuento}\n",
    "total = {barras*(3.49-descuento)}''')"
   ]
  },
  {
   "cell_type": "code",
   "execution_count": null,
   "metadata": {},
   "outputs": [],
   "source": []
  }
 ],
 "metadata": {
  "kernelspec": {
   "display_name": "Python 3",
   "language": "python",
   "name": "python3"
  },
  "language_info": {
   "codemirror_mode": {
    "name": "ipython",
    "version": 3
   },
   "file_extension": ".py",
   "mimetype": "text/x-python",
   "name": "python",
   "nbconvert_exporter": "python",
   "pygments_lexer": "ipython3",
   "version": "3.11.2"
  },
  "orig_nbformat": 4,
  "vscode": {
   "interpreter": {
    "hash": "33d446ed99de7c0954bcba634eb6074fff7476b2fe0d6372835e43c4296301f3"
   }
  }
 },
 "nbformat": 4,
 "nbformat_minor": 2
}
