{
 "cells": [
  {
   "cell_type": "markdown",
   "metadata": {},
   "source": [
    "# Función Lambda"
   ]
  },
  {
   "cell_type": "code",
   "execution_count": 1,
   "metadata": {},
   "outputs": [],
   "source": [
    "# función que regresa su numero consecutivo de x, f(x) -> x + 1\n",
    "def consecutivo(x):\n",
    "    return x + 1\n",
    "\n",
    "consecutivo_lambda = lambda x:x+1"
   ]
  },
  {
   "cell_type": "code",
   "execution_count": 4,
   "metadata": {},
   "outputs": [
    {
     "data": {
      "text/plain": [
       "1"
      ]
     },
     "execution_count": 4,
     "metadata": {},
     "output_type": "execute_result"
    }
   ],
   "source": [
    "consecutivo(0)"
   ]
  },
  {
   "cell_type": "code",
   "execution_count": 5,
   "metadata": {},
   "outputs": [
    {
     "data": {
      "text/plain": [
       "156"
      ]
     },
     "execution_count": 5,
     "metadata": {},
     "output_type": "execute_result"
    }
   ],
   "source": [
    "consecutivo_lambda(155)"
   ]
  },
  {
   "cell_type": "markdown",
   "metadata": {},
   "source": [
    "### Duplicar valor"
   ]
  },
  {
   "cell_type": "code",
   "execution_count": 22,
   "metadata": {},
   "outputs": [],
   "source": [
    "def duplica(x): # f(x) = x**2 + 1\n",
    "    return x*2\n",
    "#? f(lambda x,y: x**2 + y**2,1,2,3,4,5,6,7,8,9)\n",
    "duplica_lambda = lambda x : x*2\n",
    "duplica_def = duplica"
   ]
  },
  {
   "cell_type": "code",
   "execution_count": 23,
   "metadata": {},
   "outputs": [
    {
     "name": "stdout",
     "output_type": "stream",
     "text": [
      "12\n",
      "10\n",
      "<function <lambda> at 0x000001D824A1DD80>\n",
      "178\n"
     ]
    }
   ],
   "source": [
    "print(duplica(6))\n",
    "print(duplica_lambda(5))\n",
    "print(lambda x : x*2)\n",
    "print(duplica_def(89))"
   ]
  },
  {
   "cell_type": "markdown",
   "metadata": {},
   "source": [
    "### Número Positivo"
   ]
  },
  {
   "cell_type": "code",
   "execution_count": 24,
   "metadata": {},
   "outputs": [],
   "source": [
    "def positivo(x):\n",
    "    if x>0:\n",
    "        return True\n",
    "    return False\n",
    "\n",
    "positivo_lambda = lambda x:x>0"
   ]
  },
  {
   "cell_type": "code",
   "execution_count": 34,
   "metadata": {},
   "outputs": [
    {
     "name": "stdout",
     "output_type": "stream",
     "text": [
      "True\n",
      "False\n",
      "False\n",
      "--------------\n",
      "True\n",
      "True\n",
      "False\n",
      "True\n",
      "False\n",
      "True\n",
      "True\n",
      "False\n",
      "False\n",
      "False\n"
     ]
    }
   ],
   "source": [
    "from random import randint\n",
    "print(positivo(2))\n",
    "print(positivo_lambda(-5))\n",
    "print(-5>0)\n",
    "\n",
    "print(\"--------------\")\n",
    "# numeros aleatorios\n",
    "for i in range(10):\n",
    "    print(positivo_lambda(randint(-10,10)))\n",
    "    "
   ]
  },
  {
   "cell_type": "markdown",
   "metadata": {},
   "source": [
    "### Multiplicar por"
   ]
  },
  {
   "cell_type": "code",
   "execution_count": 35,
   "metadata": {},
   "outputs": [],
   "source": [
    "def multiplica_por(x,y):\n",
    "    return x*y\n",
    "\n",
    "def multiplica_por_l(n):\n",
    "    return lambda x: x * n # retorna función lambda\n",
    "\n",
    "lambda_multiplica = lambda x,y: x*y"
   ]
  },
  {
   "cell_type": "code",
   "execution_count": 36,
   "metadata": {},
   "outputs": [
    {
     "name": "stdout",
     "output_type": "stream",
     "text": [
      "35\n",
      "72\n",
      "<function multiplica_por_l.<locals>.<lambda> at 0x000001D824A1D7E0>\n"
     ]
    }
   ],
   "source": [
    "print(multiplica_por(5,7))\n",
    "print(lambda_multiplica(8,9))\n",
    "print(multiplica_por_l(5))"
   ]
  },
  {
   "cell_type": "code",
   "execution_count": 38,
   "metadata": {},
   "outputs": [
    {
     "data": {
      "text/plain": [
       "56"
      ]
     },
     "execution_count": 38,
     "metadata": {},
     "output_type": "execute_result"
    }
   ],
   "source": [
    "multiplica_por_ = multiplica_por_l(8) # regresa una función lambda\n",
    "multiplica_por_(7)\n"
   ]
  }
 ],
 "metadata": {
  "kernelspec": {
   "display_name": "Python 3.10.4 64-bit",
   "language": "python",
   "name": "python3"
  },
  "language_info": {
   "codemirror_mode": {
    "name": "ipython",
    "version": 3
   },
   "file_extension": ".py",
   "mimetype": "text/x-python",
   "name": "python",
   "nbconvert_exporter": "python",
   "pygments_lexer": "ipython3",
   "version": "3.10.8"
  },
  "orig_nbformat": 4,
  "vscode": {
   "interpreter": {
    "hash": "9524c4952dd211fec7df7c73b3afac2dbc89a267f70352ce6257a0999e7cce99"
   }
  }
 },
 "nbformat": 4,
 "nbformat_minor": 2
}
