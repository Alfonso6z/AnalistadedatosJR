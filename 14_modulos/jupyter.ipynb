{
 "cells": [
  {
   "cell_type": "code",
   "execution_count": 3,
   "metadata": {},
   "outputs": [
    {
     "name": "stdout",
     "output_type": "stream",
     "text": [
      "xyx xyx\n"
     ]
    }
   ],
   "source": [
    "a = {'name':'abc'}\n",
    "b = a\n",
    "c = a.copy()\n",
    "a['name'] = \"xyx\"\n",
    "print(b['name'],c['name'])"
   ]
  },
  {
   "cell_type": "code",
   "execution_count": null,
   "metadata": {},
   "outputs": [],
   "source": []
  }
 ],
 "metadata": {
  "kernelspec": {
   "display_name": "Python 3",
   "language": "python",
   "name": "python3"
  },
  "language_info": {
   "codemirror_mode": {
    "name": "ipython",
    "version": 3
   },
   "file_extension": ".py",
   "mimetype": "text/x-python",
   "name": "python",
   "nbconvert_exporter": "python",
   "pygments_lexer": "ipython3",
   "version": "3.10.8"
  },
  "orig_nbformat": 4,
  "vscode": {
   "interpreter": {
    "hash": "9524c4952dd211fec7df7c73b3afac2dbc89a267f70352ce6257a0999e7cce99"
   }
  }
 },
 "nbformat": 4,
 "nbformat_minor": 2
}
