{
 "cells": [
  {
   "attachments": {},
   "cell_type": "markdown",
   "metadata": {},
   "source": [
    "# Funcion Map"
   ]
  },
  {
   "attachments": {},
   "cell_type": "markdown",
   "metadata": {},
   "source": [
    "## Ocultar la palabra a adivinar.\n",
    "tiene que aplicar para cualquier caso:\n",
    "* cual quier cantidad de letras : \n",
    "    ```\n",
    "        ferrocarril -> \"_ _ _ _ _ _ _ _ _ _ _\"\n",
    "    ```\n",
    "    \n",
    "* cuando tiene más de una palabra: \n",
    "    ```\n",
    "        torre latinoamericana -> \"_ _ _ _ _   _ _ _ _ _ _ _ _ _ _ _ _ _ _ _ \"\n",
    "    ```\n",
    "```python\n",
    "palabra_adivinar = \"perro\"\n",
    "palabra_oculta = \"_ _ _ _ _\" # \"p _ r r _\"\n",
    "```\n"
   ]
  },
  {
   "attachments": {},
   "cell_type": "markdown",
   "metadata": {},
   "source": [
    "### solucion 1"
   ]
  },
  {
   "cell_type": "code",
   "execution_count": 13,
   "metadata": {},
   "outputs": [
    {
     "name": "stdout",
     "output_type": "stream",
     "text": [
      "_ _ _ _ _   _ _ _ _ _ _ _ _ _ _ _ _ _ _ _\n"
     ]
    }
   ],
   "source": [
    "def oculatar_palabra(palabra):\n",
    "    lista_ocultar = []\n",
    "    for i in range(len(palabra)):\n",
    "        if i == len(palabra)-1:\n",
    "            lista_ocultar.append(\"_\")\n",
    "        else: \n",
    "            if palabra[i] == \" \":\n",
    "                lista_ocultar.append(\"  \")\n",
    "            else:    \n",
    "                lista_ocultar.append(\"_ \")\n",
    "    return \"\".join(lista_ocultar)\n",
    "\n",
    "palabra_adivinar = \"torre latinoamericana\"\n",
    "palabra_o = oculatar_palabra(palabra_adivinar)\n",
    "print(palabra_o)"
   ]
  },
  {
   "attachments": {},
   "cell_type": "markdown",
   "metadata": {},
   "source": [
    "### solucion 2"
   ]
  },
  {
   "cell_type": "code",
   "execution_count": 14,
   "metadata": {},
   "outputs": [
    {
     "name": "stdout",
     "output_type": "stream",
     "text": [
      "_ _ _ _ _   _ _ _ _ _ _ _ _ _ _ _ _ _ _ _ \n"
     ]
    }
   ],
   "source": [
    "palabra_oculata =  list(map(lambda letra:\"_ \" if letra!=\" \" else \"  \",palabra_adivinar))\n",
    "print(\"\".join(palabra_oculata))"
   ]
  },
  {
   "cell_type": "code",
   "execution_count": 17,
   "metadata": {},
   "outputs": [],
   "source": [
    "def oculatar_palabra_map(palabra):\n",
    "    return \"\".join(list(map(lambda letra:\"_ \" if letra!=\" \" else \"  \",palabra)))"
   ]
  },
  {
   "cell_type": "code",
   "execution_count": 18,
   "metadata": {},
   "outputs": [
    {
     "data": {
      "text/plain": [
       "'_ _ _ _   _ _   _ _ _   _ _ _ _ _ _ _   _ _ _ _   _ _ _ _ _ _ _ '"
      ]
     },
     "execution_count": 18,
     "metadata": {},
     "output_type": "execute_result"
    }
   ],
   "source": [
    "oculatar_palabra_map(\"esto es una palabra para ocultar\")"
   ]
  }
 ],
 "metadata": {
  "kernelspec": {
   "display_name": "Python 3",
   "language": "python",
   "name": "python3"
  },
  "language_info": {
   "codemirror_mode": {
    "name": "ipython",
    "version": 3
   },
   "file_extension": ".py",
   "mimetype": "text/x-python",
   "name": "python",
   "nbconvert_exporter": "python",
   "pygments_lexer": "ipython3",
   "version": "3.10.8"
  },
  "orig_nbformat": 4
 },
 "nbformat": 4,
 "nbformat_minor": 2
}
