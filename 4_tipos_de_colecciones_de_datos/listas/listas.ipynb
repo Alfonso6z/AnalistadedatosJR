{
 "cells": [
  {
   "attachments": {},
   "cell_type": "markdown",
   "metadata": {},
   "source": [
    "# Listas\n",
    "Las listas de Python son como matrices de tamaño dinámico, declaradas en otros lenguajes (vector en C++ y ArrayList en Java). En un lenguaje sencillo, una lista es una colección de cosas, encerradas entre [ ] y separadas por comas.  \n",
    "La lista es un tipo de datos de secuencia que se utiliza para almacenar la colección de <span style=\"color:#7030A0\">datos</span>. Tuples y String son otros tipos de tipos de datos de secuencia."
   ]
  },
  {
   "cell_type": "markdown",
   "metadata": {},
   "source": [
    "## Crear una lista\n",
    "Las listas en Python se pueden crear simplemente colocando la secuencia dentro de los corchetes [].Una lista no necesita una función integrada para crear una lista. "
   ]
  },
  {
   "cell_type": "code",
   "execution_count": 2,
   "metadata": {},
   "outputs": [
    {
     "name": "stdout",
     "output_type": "stream",
     "text": [
      "<class 'list'>\n",
      "[]\n",
      "0\n"
     ]
    }
   ],
   "source": [
    "lista = []\n",
    "# imprime el tipo de dato\n",
    "print(type(lista))\n",
    "# lista en blanco\n",
    "print(lista)\n",
    "# tamaño\n",
    "print(len(lista))"
   ]
  },
  {
   "cell_type": "markdown",
   "metadata": {},
   "source": [
    "### Crear una Lista con elementos\n",
    "Una lista puede contener valores duplicados con sus distintas posiciones y, por lo tanto, se pueden pasar varios valores distintos o duplicados como una secuencia en el momento de la creación de la lista."
   ]
  },
  {
   "cell_type": "code",
   "execution_count": 6,
   "metadata": {},
   "outputs": [
    {
     "name": "stdout",
     "output_type": "stream",
     "text": [
      "6\n",
      "4\n",
      "3\n"
     ]
    }
   ],
   "source": [
    "# lista con enteros\n",
    "lista_i = [1,2,3,4,5,6]\n",
    "# lista con str\n",
    "lista_str = [\"Hola\",\"Mundo\",\"desde\",\"Python\"]\n",
    "# lista con listas\n",
    "lista_l = [[1,2],[True],[28>12 and True]]\n",
    "\n",
    "print(len(lista_i))\n",
    "print(len(lista_str))\n",
    "print(len(lista_l))"
   ]
  },
  {
   "cell_type": "code",
   "execution_count": 8,
   "metadata": {},
   "outputs": [
    {
     "name": "stdout",
     "output_type": "stream",
     "text": [
      "[1, 1, 2, 3, 4, 5, 5, 5, 6, 7, 8, 8, 9, 9, 9, 10]\n",
      "[1, 'uno', [2, 'dos'], True, 5.1, True, False, 55]\n"
     ]
    }
   ],
   "source": [
    "# lista con datos repetidos\n",
    "lista = [1,1,2,3,4,5,5,5,6,7,8,8,9,9,9,10]\n",
    "# lista con diferente tipos de datos\n",
    "lista_m =[1,\"uno\",[2,\"dos\"],True,5.1,3<=5,True and False,1+2+3+4+5+6+7+8+9+10]\n",
    "print(lista)\n",
    "print(lista_m)\n"
   ]
  },
  {
   "cell_type": "code",
   "execution_count": null,
   "metadata": {},
   "outputs": [],
   "source": [
    "n = 4\n",
    "for i in range(1,n):#i<n\n",
    "    print(i)"
   ]
  },
  {
   "cell_type": "code",
   "execution_count": 10,
   "metadata": {},
   "outputs": [
    {
     "name": "stdout",
     "output_type": "stream",
     "text": [
      "['S', 'u', 'n', 't', ' ', 'e', 'n', 'i', 'm', ' ', 's', 'i', 't', ' ', 'v', 'o', 'l', 'u', 'p', 't', 'a', 't', 'e', ' ', 'a', 'm', 'e', 't', ' ', 'l', 'a', 'b', 'o', 'r', 'i', 's', '.', ' ', 'M', 'o', 'l', 'l', 'i', 't', ' ', 'L', 'o', 'r', 'e', 'm', ' ', 'n', 'o', 'n', ' ', 'e', 's', 's', 'e', ' ', 'e', 'u', ' ', 'c', 'u', 'p', 'i', 'd', 'a', 't', 'a', 't', ' ', 'e', 's', 't', ' ', 'a', 'l', 'i', 'q', 'u', 'a', ' ', 'i', 'p', 's', 'u', 'm', ' ', 'q', 'u', 'i', 's', '.', ' ', 'V', 'e', 'n', 'i', 'a', 'm', ' ', 'a', 'l', 'i', 'q', 'u', 'a', ' ', 'd', 'u', 'i', 's', ' ', 'l', 'a', 'b', 'o', 'r', 'u', 'm', ' ', 'i', 'n', 'c', 'i', 'd', 'i', 'd', 'u', 'n', 't', ' ', 'e', 'a', ' ', 't', 'e', 'm', 'p', 'o', 'r', '.']\n"
     ]
    }
   ],
   "source": [
    "# lista con generadores for\n",
    "# !i*2 , es lo que se coloca en la lista\n",
    "# *for i in range()\n",
    "#? 2,4,6, ... ,200\n",
    "lista_g = [i*2 for i in range(1,101)] # i<101 -> 100: 100*2=200\n",
    "# print(lista_g)\n",
    "saludo = \"Sunt enim sit voluptate amet laboris. Mollit Lorem non esse eu cupidatat est aliqua ipsum quis. Veniam aliqua duis laborum incididunt ea tempor.\"\n",
    "lista_saludo = [letra for letra in saludo]\n",
    "print(lista_saludo)"
   ]
  },
  {
   "cell_type": "code",
   "execution_count": 49,
   "metadata": {},
   "outputs": [
    {
     "name": "stdout",
     "output_type": "stream",
     "text": [
      "['_', '_', '_', '_', '_', '_', '_', '_', '_', '_', '_']\n",
      "['_', '_', 'r', 'r', '_', '_', '_', 'r', 'r', '_', '_']\n",
      "['f', '_', 'r', 'r', '_', '_', '_', 'r', 'r', '_', '_']\n",
      "ferre__rr__\n"
     ]
    }
   ],
   "source": [
    "palabra = \"ferrecarril\"\n",
    "# _ _ _ _ _ \n",
    "lista_adivinar = [\"_\" for i in palabra]\n",
    "print(lista_adivinar)\n",
    "\n",
    "letra = \"r\" # la letra que me da el usuario\n",
    "for comosea in range(len(palabra)): #[p,e,r,r,o]\n",
    "    if letra == palabra[comosea]:\n",
    "        lista_adivinar[comosea] = letra\n",
    "print(lista_adivinar)\n",
    "\n",
    "letra = \"f\" # la letra que me da el usuario\n",
    "for comosea in range(len(palabra)): #[p,e,r,r,o]\n",
    "    if letra == palabra[comosea]:\n",
    "        lista_adivinar[comosea] = letra\n",
    "print(lista_adivinar)\n",
    "\n",
    "letra = \"e\" # la letra que me da el usuario\n",
    "for comosea in range(len(palabra)): #[p,e,r,r,o]\n",
    "    if letra == palabra[comosea]:\n",
    "        lista_adivinar[comosea] = letra\n",
    "print(\"\".join(lista_adivinar))"
   ]
  },
  {
   "cell_type": "code",
   "execution_count": 50,
   "metadata": {},
   "outputs": [
    {
     "ename": "TypeError",
     "evalue": "'str' object does not support item assignment",
     "output_type": "error",
     "traceback": [
      "\u001b[1;31m---------------------------------------------------------------------------\u001b[0m",
      "\u001b[1;31mTypeError\u001b[0m                                 Traceback (most recent call last)",
      "\u001b[1;32me:\\Developer\\AnalistadedatosJR\\4_tipos_de_colecciones_de_datos\\listas\\listas.ipynb Cell 10\u001b[0m in \u001b[0;36m<cell line: 3>\u001b[1;34m()\u001b[0m\n\u001b[0;32m      <a href='vscode-notebook-cell:/e%3A/Developer/AnalistadedatosJR/4_tipos_de_colecciones_de_datos/listas/listas.ipynb#Y125sZmlsZQ%3D%3D?line=0'>1</a>\u001b[0m \u001b[39m#! str es inmutable\u001b[39;00m\n\u001b[0;32m      <a href='vscode-notebook-cell:/e%3A/Developer/AnalistadedatosJR/4_tipos_de_colecciones_de_datos/listas/listas.ipynb#Y125sZmlsZQ%3D%3D?line=1'>2</a>\u001b[0m palabra2 \u001b[39m=\u001b[39m \u001b[39m\"\u001b[39m\u001b[39msaludo\u001b[39m\u001b[39m\"\u001b[39m\n\u001b[1;32m----> <a href='vscode-notebook-cell:/e%3A/Developer/AnalistadedatosJR/4_tipos_de_colecciones_de_datos/listas/listas.ipynb#Y125sZmlsZQ%3D%3D?line=2'>3</a>\u001b[0m palabra2[\u001b[39m0\u001b[39m] \u001b[39m=\u001b[39m \u001b[39m\"\u001b[39m\u001b[39mQ\u001b[39m\u001b[39m\"\u001b[39m\n\u001b[0;32m      <a href='vscode-notebook-cell:/e%3A/Developer/AnalistadedatosJR/4_tipos_de_colecciones_de_datos/listas/listas.ipynb#Y125sZmlsZQ%3D%3D?line=3'>4</a>\u001b[0m \u001b[39mprint\u001b[39m(palabra2)\n",
      "\u001b[1;31mTypeError\u001b[0m: 'str' object does not support item assignment"
     ]
    }
   ],
   "source": [
    "#! str es inmutable\n",
    "palabra2 = \"saludo\"\n",
    "palabra2[0] = \"Q\"\n",
    "print(palabra2)"
   ]
  },
  {
   "cell_type": "markdown",
   "metadata": {},
   "source": [
    "## Agregar elementos\n",
    "Los elementos se pueden agregar a la lista mediante el uso de la función incorporada <span style=\"color:#66D9EF\">append()</span> . Solo se puede agregar un elemento a la vez a la lista usando el método <span style=\"color:#66D9EF\">append()</span>, para agregar múltiples elementos con el método <span style=\"color:#66D9EF\">append()</span>, se usan bucles."
   ]
  },
  {
   "cell_type": "markdown",
   "metadata": {},
   "source": [
    "### Utilizando el método <span style=\"color:#66D9EF\">append( elemento )</span>"
   ]
  },
  {
   "cell_type": "code",
   "execution_count": 51,
   "metadata": {},
   "outputs": [
    {
     "name": "stdout",
     "output_type": "stream",
     "text": [
      "[1, 2, 3]\n",
      "[1, 2, 3, 9]\n",
      "[1, 2, 3, 9, 4, 8, 5, 7, True]\n"
     ]
    }
   ],
   "source": [
    "# crear lista\n",
    "lista = [1,2,3]\n",
    "print(lista)\n",
    "# agregando el 4\n",
    "lista.append(9)\n",
    "print(lista)\n",
    "lista.append(4)\n",
    "lista.append(8)\n",
    "lista.append(5)\n",
    "lista.append(7)\n",
    "lista.append(True)\n",
    "print(lista)\n"
   ]
  },
  {
   "cell_type": "code",
   "execution_count": 59,
   "metadata": {},
   "outputs": [
    {
     "name": "stdout",
     "output_type": "stream",
     "text": [
      "[1, 2, 3, 4, 5, 6, 7, 8, 9, 10, 11, 12, 13, 14, 15, 16, 17, 18, 19, 20, 21, 22]\n"
     ]
    }
   ],
   "source": [
    "lista = [1,2,3,4,5,6,7,8,9,10,11,12]\n",
    "# Utilizando un iterador for\n",
    "for i in range(len(lista)+1,len(lista)+11):\n",
    "    lista.append(i)\n",
    "print(lista)"
   ]
  },
  {
   "cell_type": "code",
   "execution_count": 67,
   "metadata": {},
   "outputs": [
    {
     "name": "stdout",
     "output_type": "stream",
     "text": [
      "[1, 'dos', [3, 4, 5], 6.0, [7, [8, 9, [10]]]]\n"
     ]
    }
   ],
   "source": [
    "lista_b = []\n",
    "# agregando otros tipos de datos\n",
    "lista_b.append(1)\n",
    "lista_b.append(\"dos\")\n",
    "lista_b.append([3,4,5])\n",
    "lista_b.append(6.0)\n",
    "lista_b.append([7,[8,9,[10]]])\n",
    "print(lista_b)"
   ]
  },
  {
   "cell_type": "markdown",
   "metadata": {},
   "source": [
    "### Utilizando operador de asignación"
   ]
  },
  {
   "cell_type": "markdown",
   "metadata": {},
   "source": [
    "Utilizando el operador de asignación <span style=\"color:#66D9EF\">varible += valor</span>, se puede concatenar una lista, valor tiene que ser de tipo lista"
   ]
  },
  {
   "cell_type": "code",
   "execution_count": 2,
   "metadata": {},
   "outputs": [
    {
     "name": "stdout",
     "output_type": "stream",
     "text": [
      "[1, 2, 3, 4, 6, 'otracosa', ['alfonso', 'gonzales'], {1: 'uno'}, <function <lambda> at 0x00000209A033CE50>]\n",
      "1024\n"
     ]
    }
   ],
   "source": [
    "# lista\n",
    "lista = [1,2,3]\n",
    "lista += [4]\n",
    "# error\n",
    "# lista += 5 # el 5 no es tipo list\n",
    "lista += [6] # con [] se convierte en lista\n",
    "# equivalencia\n",
    "suma = lambda x,y:x**y\n",
    "lista = lista + [\"otracosa\",[\"alfonso\",\"gonzales\"],{1:\"uno\"},suma]\n",
    "print(lista)\n",
    "print(lista[-1](2,10))"
   ]
  },
  {
   "cell_type": "markdown",
   "metadata": {},
   "source": [
    "### Con el métedo <span style=\"color:#66D9EF\">extend()</span>"
   ]
  },
  {
   "cell_type": "markdown",
   "metadata": {},
   "source": [
    "Aparte de los métodos append() e insert(), hay un método más para la adición de elementos, extend() , este método se usa para agregar varios elementos al mismo tiempo al final de la lista.  \n",
    "_Este método es igual que utilizar un operador de asignación._"
   ]
  },
  {
   "cell_type": "code",
   "execution_count": 16,
   "metadata": {},
   "outputs": [
    {
     "name": "stdout",
     "output_type": "stream",
     "text": [
      "[1, 2, 3, 4, 5, 6, 7, 7]\n"
     ]
    }
   ],
   "source": [
    "lista = [1,2,3]\n",
    "lista.extend([4,5,6])\n",
    "lista.extend([7])\n",
    "lista.extend([7])\n",
    "print(lista)"
   ]
  },
  {
   "cell_type": "markdown",
   "metadata": {},
   "source": [
    "### Usando el método <span style=\"color:#66D9EF\">insert()</span>"
   ]
  },
  {
   "cell_type": "markdown",
   "metadata": {},
   "source": [
    "El método <span style=\"color:#66D9EF\">append()</span> sólo funciona para la adición de elementos al final de la Lista, para la adición de elementos en la posición deseada, se utiliza el método <span style=\"color:#66D9EF\">insert()</span> . A diferencia de append() que toma sólo un argumento, el método <span style=\"color:#66D9EF\">insert()</span> requiere dos argumentos <span style=\"color:#66D9EF\">(posición, valor)</span>. Al insertar no sustituye el valor en la posición, sino que recorre la lista hacia la derecha\n",
    "\n",
    "La posición de una lista empieza en 0.  \n",
    "\n",
    "Ejemplo:\n",
    "```python\n",
    "    lista = [\"hola\",\"mundo\",\"desde\",\"python\"]\n",
    "```\n",
    "La posición 0 de la lista es <span style=\"color:#C5DB74 \">\"hola\"</span> , la posición 3 es <span style=\"color:#C5DB74 \">\"python\"</span>"
   ]
  },
  {
   "cell_type": "code",
   "execution_count": 84,
   "metadata": {},
   "outputs": [
    {
     "name": "stdout",
     "output_type": "stream",
     "text": [
      "[1, 2, 3, 5, 7]\n",
      "[1, 2, 3, 4, 5, 7]\n",
      "[1, 2, 3, 4, 5, 6, 7]\n",
      "['hola mundo', 1, 2, 3, 4, 5, 6, 7]\n",
      "['hola mundo', 1, 2, 3, 4, 5, 6, 7, '?']\n",
      "?\n",
      "['hola mundo', 1, 2, 3, 4, 5, 6, 7, '??', '?']\n",
      "['???', 'hola mundo', 1, 2, 3, 4, 5, 6, 7, '??', '?']\n"
     ]
    }
   ],
   "source": [
    "lista = [1,3,5,7]\n",
    "# insertamos el 2 en la posición 1\n",
    "lista.insert(1,2) # 1,2,3,5,7\n",
    "print(lista)\n",
    "# el 4 en la posición 3\n",
    "lista.insert(3,4)# 1,2,3,4,5,7\n",
    "print(lista)\n",
    "# el 6 en la posición 5\n",
    "lista.insert(5,6)\n",
    "print(lista)\n",
    "# un hola mundo en la posición 0\n",
    "lista.insert(0,\"hola mundo\")\n",
    "print(lista)\n",
    "# insert en la posición 50\n",
    "lista.insert(50,\"?\")\n",
    "print(lista)\n",
    "lista.insert(-1,\"??\")\n",
    "print(lista)\n",
    "lista.insert(-100,\"???\")\n",
    "print(lista)"
   ]
  },
  {
   "cell_type": "markdown",
   "metadata": {},
   "source": [
    "##  Acceder a un elemento en la lista"
   ]
  },
  {
   "cell_type": "markdown",
   "metadata": {},
   "source": [
    "\n",
    "### Índice de lista\n",
    "Podemos usar el operador de índice []para acceder a un elemento en una lista. En Python, los índices comienzan en 0. Entonces, una lista que tiene 5 elementos tendrá un índice de 0 a 4.\n",
    "\n",
    "Intentar acceder a índices que no sean estos generará un archivo IndexError. El índice debe ser un número entero. No podemos usar float u otros tipos, esto dará como resultado TypeError.\n",
    "\n",
    "Se accede a las listas anidadas mediante la indexación anidada."
   ]
  },
  {
   "cell_type": "code",
   "execution_count": 87,
   "metadata": {},
   "outputs": [
    {
     "name": "stdout",
     "output_type": "stream",
     "text": [
      "1\n",
      "10\n"
     ]
    }
   ],
   "source": [
    "#       [0,1,2,3,4,5,6,7,8,9 ]\n",
    "lista = [1,2,3,4,5,6,7,8,9,10]#\n",
    "print(lista[0])\n",
    "print(lista[len(lista)-1])"
   ]
  },
  {
   "cell_type": "code",
   "execution_count": 8,
   "metadata": {},
   "outputs": [
    {
     "name": "stdout",
     "output_type": "stream",
     "text": [
      "[9, 10]\n",
      "10\n",
      "esto ->[[[['?']]]]\n",
      "esto ->[[['?']]]\n",
      "esto ->[['?']]\n",
      "esto ->['?']\n",
      "esto ->?\n",
      "<class 'list'>\n",
      "<class 'list'>\n",
      "<class 'list'>\n",
      "<class 'list'>\n",
      "<class 'str'>\n"
     ]
    }
   ],
   "source": [
    "# lista con listas\n",
    "lista = [1,2,3,[4,5,6,7,8],[9,10],[[[[\"?\"]]]],5] # 5 \n",
    "# mostrar 10\n",
    "print(lista[4]) # [9,10]\n",
    "print(lista[4][1]) # 10\n",
    "# mostrar ? \n",
    "print(\"esto ->\"+str(lista[5])) # [[[[\"?\"]]]]\n",
    "print(\"esto ->\"+str(lista[5][0])) # [[[\"?\"]]]\n",
    "print(\"esto ->\"+str(lista[5][0][0])) # [[\"?\"]]\n",
    "print(\"esto ->\"+str(lista[5][0][0][0]))# [\"?\"]\n",
    "print(\"esto ->\"+str(lista[5][0][0][0][0])) # \"?\"\n",
    "\n",
    "print(type(lista[5])) # list\n",
    "print(type(lista[5][0])) # list\n",
    "print(type(lista[5][0][0])) # list\n",
    "print(type(lista[5][0][0][0]))# list\n",
    "print(type(lista[5][0][0][0][0])) # str\n",
    "\n"
   ]
  },
  {
   "cell_type": "code",
   "execution_count": 16,
   "metadata": {},
   "outputs": [
    {
     "name": "stdout",
     "output_type": "stream",
     "text": [
      "X| | \n",
      "-----\n",
      " |X| \n",
      "-----\n",
      " | |X\n"
     ]
    }
   ],
   "source": [
    "gato = [[\" \",\"|\",\" \",\"|\",\" \"],[\"-\",\"-\",\"-\",\"-\",\"-\"],[\" \",\"|\",\" \",\"|\",\" \"],[\"-\",\"-\",\"-\",\"-\",\"-\"],[\" \",\"|\",\" \",\"|\",\" \"]]\n",
    "gato[2][2] = \"X\"\n",
    "gato[0][0] = \"X\"\n",
    "gato[4][4] = \"X\"\n",
    "for c in range(len(gato)):\n",
    "    for c1 in range(len(gato[c])):\n",
    "        print(gato[c][c1],end=\"\")\n",
    "    print()\n"
   ]
  },
  {
   "cell_type": "markdown",
   "metadata": {},
   "source": [
    "### Indexación negativa\n"
   ]
  },
  {
   "cell_type": "markdown",
   "metadata": {},
   "source": [
    "Python permite la indexación negativa de sus secuencias. El índice de -1 se refiere al último elemento, -2 al penúltimo elemento y así sucesivamente."
   ]
  },
  {
   "cell_type": "code",
   "execution_count": 50,
   "metadata": {},
   "outputs": [
    {
     "name": "stdout",
     "output_type": "stream",
     "text": [
      "151\n",
      "150\n",
      "0\n"
     ]
    }
   ],
   "source": [
    "lista = [i for i in range(152)]\n",
    "# ultimo elento\n",
    "print(lista[-1]) # 151\n",
    "# penultimo\n",
    "print(lista[-2]) # 150\n",
    "# primer elemento\n",
    "print(lista[-len(lista)]) # 0\n"
   ]
  },
  {
   "cell_type": "markdown",
   "metadata": {},
   "source": [
    "## Eliminar un elemento"
   ]
  },
  {
   "cell_type": "markdown",
   "metadata": {},
   "source": [
    "### Usando el método <span style=\"color:#66D9EF\">remove()</span>\n",
    "Los elementos se pueden eliminar de la lista utilizando la función <span style=\"color:#66D9EF\">remove()</span>, si el elemento no existe en la lista marcara un error.\n",
    "El método <span style=\"color:#66D9EF\">remove()</span> solo elimina un elemento a la vez, para eliminar un rango de elementos se usa un iterador.\n",
    "\n",
    "El método solo eliminara la primera aparición del elemento buscado."
   ]
  },
  {
   "cell_type": "code",
   "execution_count": 3,
   "metadata": {},
   "outputs": [
    {
     "name": "stdout",
     "output_type": "stream",
     "text": [
      "[1, 2, 3, 4, 5, 3, 2, 6, 7, 2, 8, 1, 9, 1, 5]\n",
      "[1, 2, 3, 4, 3, 2, 6, 7, 2, 8, 1, 9, 1, 5]\n",
      "None\n",
      "[1, 2, 3, 4, 3, 2, 6, 7, 2, 8, 1, 9, 1]\n"
     ]
    }
   ],
   "source": [
    "lista = [1,2,3,4,5,3,2,6,7,2,8,1,9,1,5]\n",
    "print(lista)\n",
    "# eliminamos el 5\n",
    "lista.remove(5)\n",
    "print(lista)\n",
    "print(lista.remove(5))\n",
    "print(lista)\n",
    "# # eliminamos el 1, primera aparición\n",
    "# lista.remove(1)\n",
    "# print(lista)\n",
    "# # lo eliminamos de nuevo\n",
    "# lista.remove(1)\n",
    "# print(lista)\n",
    "# # ultimo\n",
    "# lista.remove(1)\n",
    "# print(lista)\n",
    "# # si lo eliminamos de nuevo , error\n",
    "# lista.remove(1)"
   ]
  },
  {
   "cell_type": "code",
   "execution_count": 28,
   "metadata": {},
   "outputs": [
    {
     "name": "stdout",
     "output_type": "stream",
     "text": [
      "[0, 2, 4, 6, 8, 10, 12, 14, 16, 18, 20, 22, 24, 26, 28, 30, 32, 34, 36, 38, 40, 42, 44, 46, 48, 50, 52, 54, 56, 58, 60, 62, 64, 66, 68, 70, 72, 74, 76, 78, 80, 82, 84, 86, 88, 90, 92, 94, 96, 98]\n"
     ]
    }
   ],
   "source": [
    "prueba = [i for i in range(100)]\n",
    "n = 0\n",
    "while n<len(prueba):\n",
    "    if prueba[n]%2!=0: \n",
    "        prueba.remove(prueba[n])\n",
    "    n+=1\n",
    "print(prueba)"
   ]
  },
  {
   "cell_type": "code",
   "execution_count": 29,
   "metadata": {},
   "outputs": [
    {
     "name": "stdout",
     "output_type": "stream",
     "text": [
      "[0, 1, 2, 3, 4, 5, 6, 7, 8, 9]\n",
      "None\n",
      "None\n",
      "None\n",
      "None\n",
      "None\n",
      "[5, 6, 7, 8, 9]\n"
     ]
    }
   ],
   "source": [
    "# eliminación con iterador\n",
    "lista = [i for i in range(10)]\n",
    "print(lista)\n",
    "for i in range(5):\n",
    "    print(lista.remove(i))\n",
    "print(lista)\n"
   ]
  },
  {
   "cell_type": "markdown",
   "metadata": {},
   "source": [
    "### El metodo <span style=\"color:#66D9EF\">pop( )</span>"
   ]
  },
  {
   "cell_type": "markdown",
   "metadata": {},
   "source": [
    "También se puede usar para eliminar y devolver un elemento de la lista, pero por defecto elimina solo el último elemento de la lista, para eliminar un elemento de una posición específica de la Lista, se pasa el índice del elemento como un argumento para el método <span style=\"color:#66D9EF\">pop(indice)</span>."
   ]
  },
  {
   "cell_type": "code",
   "execution_count": 34,
   "metadata": {},
   "outputs": [
    {
     "name": "stdout",
     "output_type": "stream",
     "text": [
      "[1, 2, 3, 4, 5, 6, 7, 8, 9, 'lo que sea']\n",
      "lo que sea\n",
      "9\n",
      "8\n",
      "7\n",
      "6\n",
      "5\n",
      "[1, 2, 3, 4]\n"
     ]
    },
    {
     "data": {
      "text/plain": [
       "7"
      ]
     },
     "execution_count": 34,
     "metadata": {},
     "output_type": "execute_result"
    }
   ],
   "source": [
    "lista = [1,2,3,4,5,6,7,8,9,\"lo que sea\"]\n",
    "print(lista)\n",
    "# elimina el ultimo\n",
    "print(lista.pop()) # 10\n",
    "print(lista.pop()) # 9\n",
    "print(lista.pop()) # \n",
    "print(lista.pop()) # \n",
    "print(lista.pop()) # \n",
    "print(lista.pop()) # \n",
    "print(lista) # 1 - 4\n",
    "a = lista.pop()\n",
    "b = lista.pop()\n",
    "c = a + b\n",
    "c\n"
   ]
  },
  {
   "cell_type": "markdown",
   "metadata": {},
   "source": [
    "## Comprobar si un elmento existe en la lista"
   ]
  },
  {
   "cell_type": "markdown",
   "metadata": {},
   "source": [
    "Podemos probar si un elemento existe en una lista o no, utilizando in."
   ]
  },
  {
   "cell_type": "code",
   "execution_count": 5,
   "metadata": {},
   "outputs": [
    {
     "name": "stdout",
     "output_type": "stream",
     "text": [
      "True\n",
      "False\n",
      "['hola', 1, True, 1.7, 4, 8, 5, 1]\n"
     ]
    }
   ],
   "source": [
    "lista = [\"hola\",1,3,3,True,1.7,3,4,8,3,5,1,3]\n",
    "print(1 in lista)\n",
    "print( 1 not in lista)\n",
    "# eliminamos todos los 3\n",
    "for i in lista:\n",
    "    if 3 in lista:\n",
    "        lista.remove(3)\n",
    "print(lista)"
   ]
  },
  {
   "cell_type": "markdown",
   "metadata": {},
   "source": [
    "### Método <span style=\"color:#66D9EF\">index()</span>\n",
    "<span style=\"color:#66D9EF\">index(valor, posición)</span> devuelve la primera aparición / índice del elemento en la lista dada como argumento de la función.\n",
    "Podemos buscar despues de una posición con el segundo argumeto"
   ]
  },
  {
   "cell_type": "markdown",
   "metadata": {},
   "source": [
    "### "
   ]
  },
  {
   "cell_type": "code",
   "execution_count": 10,
   "metadata": {},
   "outputs": [
    {
     "name": "stdout",
     "output_type": "stream",
     "text": [
      "0\n",
      "5\n",
      "10\n",
      "10\n"
     ]
    }
   ],
   "source": [
    "lista = [1,2,3,4,4,1,4,5,3,2,1,3,4,5]\n",
    "indice_1 = lista.index(1)\n",
    "print(indice_1) # 0\n",
    "# buscar despues de la posición 3 \n",
    "indice_p = lista.index(1,indice_1+1) #index(1,1) \n",
    "print(indice_p) # 5\n",
    "indice_q = lista.index(1,indice_p+1) # \n",
    "print(indice_q) # 10\n",
    "indice_k = lista.index(1,indice_q+1)\n",
    "print(indice_k) # "
   ]
  },
  {
   "cell_type": "markdown",
   "metadata": {},
   "source": [
    "## Contar elemetos"
   ]
  },
  {
   "cell_type": "markdown",
   "metadata": {},
   "source": [
    "### Método <span style=\"color:#66D9EF\">len( )</span>"
   ]
  },
  {
   "cell_type": "markdown",
   "metadata": {},
   "source": [
    "El método <span style=\"color:#66D9EF\">len( )</span> devuelve la longitud de un objeto, ya sea una lista, una cadena, una tupla o un diccionario."
   ]
  },
  {
   "cell_type": "code",
   "execution_count": 11,
   "metadata": {},
   "outputs": [
    {
     "name": "stdout",
     "output_type": "stream",
     "text": [
      "100\n",
      "442\n"
     ]
    }
   ],
   "source": [
    "lista = [i for i in range(100)]\n",
    "print(len(lista))\n",
    "txt = \"Deserunt esse quis tempor ex. Pariatur adipisicing ipsum ut amet in aliqua adipisicing. Tempor proident esse proident do fugiat adipisicing excepteur ex quis incididunt anim id id ad. Eiusmod ea nulla mollit mollit dolor non aliqua eu mollit enim ut consectetur ipsum adipisicing. Sint tempor eu exercitation aute veniam nostrud et officia ea dolore qui occaecat aliqua cillum. Do proident enim ullamco sunt commodo velit et anim tempor duis.\"\n",
    "print(len(txt))\n"
   ]
  },
  {
   "cell_type": "markdown",
   "metadata": {},
   "source": [
    "### Método <span style=\"color:#66D9EF\">count( )</span>"
   ]
  },
  {
   "cell_type": "markdown",
   "metadata": {},
   "source": [
    "El método <span style=\"color:#66D9EF\">count( )</span> devuelve el número de veces que un elementos aparecen en la lista especificada. Este método toma un único argumento como entrada. Itera la lista y cuenta el número de instancias que coinciden."
   ]
  },
  {
   "cell_type": "code",
   "execution_count": 13,
   "metadata": {},
   "outputs": [
    {
     "name": "stdout",
     "output_type": "stream",
     "text": [
      "5\n"
     ]
    }
   ],
   "source": [
    "lista = [1,2,3,1,2,3,1,9,8,1,5,8,1,6,8,7,8]\n",
    "print(lista.count(1))"
   ]
  },
  {
   "cell_type": "markdown",
   "metadata": {},
   "source": [
    "## Ordenar"
   ]
  },
  {
   "cell_type": "markdown",
   "metadata": {},
   "source": [
    "### Método <span style=\"color:#66D9EF\">sort( )</span>, <span style=\"color:#66D9EF\">min()</span> y <span style=\"color:#66D9EF\">max()</span>"
   ]
  },
  {
   "cell_type": "markdown",
   "metadata": {},
   "source": [
    "El método <span style=\"color:#66D9EF\">sort()</span> ordena la lista de forma ascendente por defecto.\n",
    "También puede crear una función para decidir los criterios de clasificación.\n",
    "<span style=\"color:#66D9EF\">sort(reverse = True|False,key=(funcion))</span>  \n",
    "\n",
    "<span style=\"color:#66D9EF\">min()</span> y <span style=\"color:#66D9EF\">max()</span> son útiles cuando necesita encontrar los valores más pequeños y más grandes en un iterable.\n",
    "\n"
   ]
  },
  {
   "cell_type": "code",
   "execution_count": 1,
   "metadata": {},
   "outputs": [
    {
     "name": "stdout",
     "output_type": "stream",
     "text": [
      "alfonso:Hola mundo\n",
      "None\n",
      "[1, 2, 3, 4, 5, 6, 7, 8, 9]\n",
      "[9, 8, 7, 6, 5, 4, 3, 2, 1]\n",
      "1\n",
      "9\n"
     ]
    }
   ],
   "source": [
    "def saludo(nombre,mensaje=\"Hola mundo\"):\n",
    "    print(f\"{nombre}:{mensaje}\")\n",
    "\n",
    "saludo(\"alfonso\")\n",
    "lista = [2,6,8,4,5,9,7,1,3]\n",
    "print(lista.sort())\n",
    "print(lista)\n",
    "lista = [2,6,8,4,5,9,7,1,3]\n",
    "lista.sort(reverse=True)\n",
    "print(lista)\n",
    "print(min(lista))\n",
    "print(max(lista))\n"
   ]
  },
  {
   "cell_type": "markdown",
   "metadata": {},
   "source": [
    "## Rebanar una lista"
   ]
  },
  {
   "attachments": {},
   "cell_type": "markdown",
   "metadata": {},
   "source": [
    "Podemos obtener subcadenas y sublistas usando un segmento. En Python List, hay varias formas de imprimir la lista completa con todos los elementos.\n",
    "La operación de división se realiza en Listas con el uso de dos puntos ( : )"
   ]
  },
  {
   "cell_type": "markdown",
   "metadata": {},
   "source": [
    "Para imprimir un elmentos desde el pirncipio hasta un rango"
   ]
  },
  {
   "cell_type": "code",
   "execution_count": 35,
   "metadata": {},
   "outputs": [
    {
     "name": "stdout",
     "output_type": "stream",
     "text": [
      "Para imprimir un elmentos desde el pirncipio hasta un rango\n",
      "[0, 1, 2, 3, 4, 5, 6, 7, 8, 9]\n",
      "Para imprimir elementos desde el  final:\n",
      "[0, 1, 2, 3, 4, 5, 6, 7, 8, 9, 10, 11, 12, 13, 14, 15, 16, 17, 18, 19, 20, 21, 22, 23, 24, 25, 26, 27, 28, 29, 30, 31, 32, 33, 34, 35, 36, 37, 38, 39]\n",
      "Para imprimir elementos de un índice específico hasta el final \n",
      "[40, 41, 42, 43, 44, 45, 46, 47, 48, 49]\n",
      "Para imprimir la lista completa en orden inverso\n",
      "[49, 48, 47, 46, 45, 44, 43, 42, 41, 40, 39, 38, 37, 36, 35, 34, 33, 32, 31, 30, 29, 28, 27, 26, 25, 24, 23, 22, 21, 20, 19, 18, 17, 16, 15, 14, 13, 12, 11, 10, 9, 8, 7, 6, 5, 4, 3, 2, 1, 0]\n",
      "Para imprimir elementos en un rango\n",
      "[10, 11, 12, 13, 14, 15, 16, 17, 18, 19]\n"
     ]
    }
   ],
   "source": [
    "lista = [i for i in range(50)]\n",
    "print(\"Para imprimir un elmentos desde el pirncipio hasta un rango\")\n",
    "print(lista[:10]) # 0:<10\n",
    "print(\"Para imprimir elementos desde el  final:\")\n",
    "print(lista[:-10])\n",
    "print(\"Para imprimir elementos de un índice específico hasta el final \")\n",
    "print(lista[40:])\n",
    "print(\"Para imprimir la lista completa en orden inverso\")\n",
    "print(lista[::-1])\n",
    "print(\"Para imprimir elementos en un rango\")\n",
    "print(lista[10:20]) # 0:<20"
   ]
  },
  {
   "cell_type": "markdown",
   "metadata": {},
   "source": [
    "## Copiar una lista"
   ]
  },
  {
   "cell_type": "markdown",
   "metadata": {},
   "source": [
    "### Uso del método <span style=\"color:#66D9EF\">copy( )</span>"
   ]
  },
  {
   "cell_type": "markdown",
   "metadata": {},
   "source": [
    "El método incorporado copy se usa para copiar todos los elementos de una lista a otra."
   ]
  },
  {
   "cell_type": "code",
   "execution_count": 32,
   "metadata": {},
   "outputs": [
    {
     "name": "stdout",
     "output_type": "stream",
     "text": [
      "True\n",
      "False\n",
      "True\n"
     ]
    }
   ],
   "source": [
    "a = 5\n",
    "b = 5\n",
    "print(id(a) == id(b))\n",
    "b = b + 1 \n",
    "print(id(a) == id(b))\n",
    "c = 6\n",
    "print(id(b) == id(c))"
   ]
  },
  {
   "cell_type": "code",
   "execution_count": 39,
   "metadata": {},
   "outputs": [
    {
     "name": "stdout",
     "output_type": "stream",
     "text": [
      "True\n",
      "[1, 2, 3, 4, 4, 4, 4, 4, 4, 4]\n",
      "True\n",
      "[1, 2, 3, 4, 4, 4, 4, 4, 4, 4]\n"
     ]
    }
   ],
   "source": [
    "lista = [1,2,3] # \n",
    "lista2 = lista\n",
    "print(id(lista) == id(lista2))\n",
    "lista.append(4) # 1,2,3,4  - 1,2,3\n",
    "lista.append(4) # 1,2,3,4  - 1,2,3\n",
    "lista.append(4) # 1,2,3,4  - 1,2,3\n",
    "lista.append(4) # 1,2,3,4  - 1,2,3\n",
    "lista.append(4) # 1,2,3,4  - 1,2,3\n",
    "lista.append(4) # 1,2,3,4  - 1,2,3\n",
    "lista.append(4) # 1,2,3,4  - 1,2,3\n",
    "print(lista2)# 1,2,3\n",
    "print(id(lista) == id(lista2))\n",
    "# print(lista2)\n",
    "# lista[0] = \"uno\"\n",
    "print(lista)\n",
    "# print(lista2)\n",
    "\n"
   ]
  },
  {
   "cell_type": "code",
   "execution_count": 44,
   "metadata": {},
   "outputs": [
    {
     "name": "stdout",
     "output_type": "stream",
     "text": [
      "False\n",
      "[1, 2, 3, 4]\n",
      "[1, 2, 3, 4]\n",
      "[1, 2, 3, 4, 'hola']\n",
      "[1, 2, 3, 4, 'mundo']\n",
      "2836712259824\n",
      "2836712259824\n"
     ]
    }
   ],
   "source": [
    "lista = [1,2,3,4]\n",
    "lista2 = lista.copy()\n",
    "print(id(lista) == id(lista2))\n",
    "print(lista)\n",
    "print(lista2)\n",
    "lista.append(\"hola\")\n",
    "lista2.append(\"mundo\")\n",
    "print(lista)\n",
    "print(lista2)\n",
    "print(id(lista[0]))\n",
    "print(id(lista2[0]))"
   ]
  },
  {
   "cell_type": "markdown",
   "metadata": {},
   "source": [
    "## Eliminar una lista"
   ]
  },
  {
   "cell_type": "code",
   "execution_count": 45,
   "metadata": {},
   "outputs": [
    {
     "name": "stdout",
     "output_type": "stream",
     "text": [
      "[1, 2, 3]\n",
      "[]\n",
      "False\n"
     ]
    }
   ],
   "source": [
    "lista = [1,2,3]\n",
    "print(lista)\n",
    "id1 = id(lista)\n",
    "lista = []\n",
    "print(lista)\n",
    "id2 = id(lista)\n",
    "print(id1 == id2)"
   ]
  },
  {
   "cell_type": "code",
   "execution_count": 77,
   "metadata": {},
   "outputs": [
    {
     "name": "stdout",
     "output_type": "stream",
     "text": [
      "True\n",
      "[]\n"
     ]
    },
    {
     "ename": "NameError",
     "evalue": "name 'lista' is not defined",
     "output_type": "error",
     "traceback": [
      "\u001b[1;31m---------------------------------------------------------------------------\u001b[0m",
      "\u001b[1;31mNameError\u001b[0m                                 Traceback (most recent call last)",
      "\u001b[1;32me:\\Developer\\AnalistadedatosJR\\4_tipos_de_colecciones_de_datos\\listas\\listas.ipynb Cell 70\u001b[0m in \u001b[0;36m<cell line: 8>\u001b[1;34m()\u001b[0m\n\u001b[0;32m      <a href='vscode-notebook-cell:/e%3A/Developer/AnalistadedatosJR/4_tipos_de_colecciones_de_datos/listas/listas.ipynb#Y123sZmlsZQ%3D%3D?line=5'>6</a>\u001b[0m \u001b[39mprint\u001b[39m(lista)\n\u001b[0;32m      <a href='vscode-notebook-cell:/e%3A/Developer/AnalistadedatosJR/4_tipos_de_colecciones_de_datos/listas/listas.ipynb#Y123sZmlsZQ%3D%3D?line=6'>7</a>\u001b[0m \u001b[39mdel\u001b[39;00m lista\n\u001b[1;32m----> <a href='vscode-notebook-cell:/e%3A/Developer/AnalistadedatosJR/4_tipos_de_colecciones_de_datos/listas/listas.ipynb#Y123sZmlsZQ%3D%3D?line=7'>8</a>\u001b[0m \u001b[39mprint\u001b[39m(lista)\n",
      "\u001b[1;31mNameError\u001b[0m: name 'lista' is not defined"
     ]
    }
   ],
   "source": [
    "lista = [1,2,3]\n",
    "id1 = id(lista)\n",
    "lista.clear()\n",
    "id2 = id(lista)\n",
    "print(id1 == id2)\n",
    "print(lista)\n",
    "del lista\n",
    "print(lista)"
   ]
  },
  {
   "cell_type": "code",
   "execution_count": 52,
   "metadata": {},
   "outputs": [
    {
     "data": {
      "text/plain": [
       "[8, 3, 7, 8, 4, 5, 5, 10, 7, 8]"
      ]
     },
     "execution_count": 52,
     "metadata": {},
     "output_type": "execute_result"
    }
   ],
   "source": [
    "import random\n",
    "lista_r = [random.randint(1,10)for i in range(10)]\n",
    "lista_r"
   ]
  },
  {
   "cell_type": "code",
   "execution_count": null,
   "metadata": {},
   "outputs": [],
   "source": []
  }
 ],
 "metadata": {
  "kernelspec": {
   "display_name": "Python 3",
   "language": "python",
   "name": "python3"
  },
  "language_info": {
   "codemirror_mode": {
    "name": "ipython",
    "version": 3
   },
   "file_extension": ".py",
   "mimetype": "text/x-python",
   "name": "python",
   "nbconvert_exporter": "python",
   "pygments_lexer": "ipython3",
   "version": "3.11.2"
  },
  "orig_nbformat": 4,
  "vscode": {
   "interpreter": {
    "hash": "9524c4952dd211fec7df7c73b3afac2dbc89a267f70352ce6257a0999e7cce99"
   }
  }
 },
 "nbformat": 4,
 "nbformat_minor": 2
}
